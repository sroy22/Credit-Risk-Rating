{
 "cells": [
  {
   "cell_type": "markdown",
   "metadata": {},
   "source": [
    "Performing Exploratory Data Analysis on the CMEG File"
   ]
  },
  {
   "cell_type": "code",
   "execution_count": 1,
   "metadata": {},
   "outputs": [
    {
     "name": "stderr",
     "output_type": "stream",
     "text": [
      "C:\\Users\\subha\\Anaconda3\\lib\\site-packages\\numpy\\_distributor_init.py:32: UserWarning: loaded more than 1 DLL from .libs:\n",
      "C:\\Users\\subha\\Anaconda3\\lib\\site-packages\\numpy\\.libs\\libopenblas.PYQHXLVVQ7VESDPUVUADXEVJOBGHJPAY.gfortran-win_amd64.dll\n",
      "C:\\Users\\subha\\Anaconda3\\lib\\site-packages\\numpy\\.libs\\libopenblas.XWYDX2IKJW2NMTWSFYNGFUWKQU3LYTCZ.gfortran-win_amd64.dll\n",
      "  stacklevel=1)\n",
      "C:\\Users\\subha\\Anaconda3\\lib\\site-packages\\statsmodels\\tools\\_testing.py:19: FutureWarning: pandas.util.testing is deprecated. Use the functions in the public API at pandas.testing instead.\n",
      "  import pandas.util.testing as tm\n"
     ]
    }
   ],
   "source": [
    "import pandas as pd\n",
    "import numpy as np\n",
    "\n",
    "import matplotlib.pyplot as plt\n",
    "import seaborn as sns"
   ]
  },
  {
   "cell_type": "code",
   "execution_count": 2,
   "metadata": {},
   "outputs": [],
   "source": [
    "cmeg_df = pd.read_excel('cmeg_df_case_competition_scrambled_train.xlsx', sheet_name='Data')"
   ]
  },
  {
   "cell_type": "code",
   "execution_count": 3,
   "metadata": {},
   "outputs": [],
   "source": [
    "cmeg_df = cmeg_df.sort_values(by = ['ROW'], ascending=False)"
   ]
  },
  {
   "cell_type": "code",
   "execution_count": 4,
   "metadata": {},
   "outputs": [
    {
     "name": "stdout",
     "output_type": "stream",
     "text": [
      "> ROW, Missing: 0 (0.0%)\n",
      "> Corp_Residence_Country_Code, Missing: 0 (0.0%)\n",
      "> BR Code, Missing: 0 (0.0%)\n",
      "> Period, Missing: 0 (0.0%)\n",
      "> CUSTOMER_ID, Missing: 0 (0.0%)\n",
      "> Final_IG, Missing: 0 (0.0%)\n",
      "> B_PLUS_FLAG, Missing: 0 (0.0%)\n",
      "> EBITDA_Y0, Missing: 597 (2.1%)\n",
      "> EBITDA_Y1, Missing: 2361 (8.4%)\n",
      "> EBITDA_Y2, Missing: 8434 (29.9%)\n",
      "> EBITDA_Y3, Missing: 14186 (50.3%)\n",
      "> TOTALASSET_Y0, Missing: 381 (1.3%)\n",
      "> TOTALASSET_Y1, Missing: 2210 (7.8%)\n",
      "> TOTALASSET_Y2, Missing: 8292 (29.4%)\n",
      "> TOTALASSET_Y3, Missing: 14112 (50.0%)\n",
      "> TOTALDEBT_Y0, Missing: 875 (3.1%)\n",
      "> TOTALDEBT_Y1, Missing: 2718 (9.6%)\n",
      "> TOTALDEBT_Y2, Missing: 8714 (30.9%)\n",
      "> TOTALDEBT_Y3, Missing: 14358 (50.9%)\n",
      "> TOTALREVENUE_Y0, Missing: 819 (2.9%)\n",
      "> TOTALREVENUE_Y1, Missing: 2577 (9.1%)\n",
      "> TOTALREVENUE_Y2, Missing: 8591 (30.4%)\n",
      "> TOTALREVENUE_Y3, Missing: 14290 (50.6%)\n",
      "> CURRENTASSET_Y0, Missing: 789 (2.8%)\n",
      "> CURRENTASSET_Y1, Missing: 2585 (9.2%)\n",
      "> CURRENTASSET_Y2, Missing: 8571 (30.4%)\n",
      "> CURRENTASSET_Y3, Missing: 14269 (50.6%)\n",
      "> FIXEDASSET_Y0, Missing: 477 (1.7%)\n",
      "> FIXEDASSET_Y1, Missing: 2308 (8.2%)\n",
      "> FIXEDASSET_Y2, Missing: 8381 (29.7%)\n",
      "> FIXEDASSET_Y3, Missing: 14177 (50.2%)\n",
      "> CURRENTLIABILITY_Y0, Missing: 536 (1.9%)\n",
      "> CURRENTLIABILITY_Y1, Missing: 2358 (8.4%)\n",
      "> CURRENTLIABILITY_Y2, Missing: 8418 (29.8%)\n",
      "> CURRENTLIABILITY_Y3, Missing: 14182 (50.2%)\n",
      "> NONCURRLIA_Y0, Missing: 769 (2.7%)\n",
      "> NONCURRLIA_Y1, Missing: 2604 (9.2%)\n",
      "> NONCURRLIA_Y2, Missing: 8633 (30.6%)\n",
      "> NONCURRLIA_Y3, Missing: 14323 (50.7%)\n",
      "> TOTALEQUITY_Y0, Missing: 962 (3.4%)\n",
      "> TOTALEQUITY_Y1, Missing: 2739 (9.7%)\n",
      "> TOTALEQUITY_Y2, Missing: 8739 (31.0%)\n",
      "> TOTALEQUITY_Y3, Missing: 14382 (51.0%)\n",
      "> TOTALNETWORTH_Y0, Missing: 825 (2.9%)\n",
      "> TOTALNETWORTH_Y1, Missing: 2619 (9.3%)\n",
      "> TOTALNETWORTH_Y2, Missing: 8635 (30.6%)\n",
      "> TOTALNETWORTH_Y3, Missing: 14315 (50.7%)\n",
      "> CAPITALIZATION_Y0, Missing: 716 (2.5%)\n",
      "> CAPITALIZATION_Y1, Missing: 2539 (9.0%)\n",
      "> CAPITALIZATION_Y2, Missing: 8563 (30.3%)\n",
      "> CAPITALIZATION_Y3, Missing: 14258 (50.5%)\n",
      "> TOTINTEXP_Y0, Missing: 945 (3.3%)\n",
      "> TOTINTEXP_Y1, Missing: 2752 (9.8%)\n",
      "> TOTINTEXP_Y2, Missing: 8737 (31.0%)\n",
      "> TOTINTEXP_Y3, Missing: 14385 (51.0%)\n",
      "> LEASERENTEXP_Y0, Missing: 824 (2.9%)\n",
      "> LEASERENTEXP_Y1, Missing: 2629 (9.3%)\n",
      "> LEASERENTEXP_Y2, Missing: 8652 (30.7%)\n",
      "> LEASERENTEXP_Y3, Missing: 14342 (50.8%)\n",
      "> EBITDAR_Y0, Missing: 600 (2.1%)\n",
      "> EBITDAR_Y1, Missing: 2374 (8.4%)\n",
      "> EBITDAR_Y2, Missing: 8441 (29.9%)\n",
      "> EBITDAR_Y3, Missing: 14191 (50.3%)\n",
      "> receivabledays_Y0, Missing: 1097 (3.9%)\n",
      "> receivabledays_Y1, Missing: 2896 (10.3%)\n",
      "> receivabledays_Y2, Missing: 8848 (31.3%)\n",
      "> receivabledays_Y3, Missing: 14450 (51.2%)\n",
      "> INVENTORYDAYS_Y0, Missing: 4978 (17.6%)\n",
      "> INVENTORYDAYS_Y1, Missing: 6504 (23.0%)\n",
      "> INVENTORYDAYS_Y2, Missing: 11605 (41.1%)\n",
      "> INVENTORYDAYS_Y3, Missing: 16524 (58.5%)\n",
      "> payableDAYS_Y0, Missing: 1899 (6.7%)\n",
      "> payableDAYS_Y1, Missing: 3637 (12.9%)\n",
      "> payableDAYS_Y2, Missing: 9386 (33.3%)\n",
      "> payableDAYS_Y3, Missing: 14815 (52.5%)\n",
      "> Capex2Dep_Y0, Missing: 3404 (12.1%)\n",
      "> Capex2Dep_Y1, Missing: 4914 (17.4%)\n",
      "> Capex2Dep_Y2, Missing: 10336 (36.6%)\n",
      "> tangibleNetWorth_Y0, Missing: 729 (2.6%)\n",
      "> tangibleNetWorth_Y1, Missing: 2527 (9.0%)\n",
      "> tangibleNetWorth_Y2, Missing: 8546 (30.3%)\n",
      "> tangibleNetWorth_Y3, Missing: 14254 (50.5%)\n",
      "> FIXEDCHARGECOV_Y0, Missing: 787 (2.8%)\n",
      "> FIXEDCHARGECOV_Y1, Missing: 2587 (9.2%)\n",
      "> FIXEDCHARGECOV_Y2, Missing: 8620 (30.5%)\n",
      "> FIXEDCHARGECOV_Y3, Missing: 14316 (50.7%)\n",
      "> DEBTSERVCOV_Y0, Missing: 791 (2.8%)\n",
      "> DEBTSERVCOV_Y1, Missing: 2592 (9.2%)\n",
      "> DEBTSERVCOV_Y2, Missing: 8625 (30.6%)\n",
      "> DEBTSERVCOV_Y3, Missing: 14320 (50.7%)\n",
      "> NETPROFIT_Y0, Missing: 559 (2.0%)\n",
      "> NETPROFIT_Y1, Missing: 2330 (8.3%)\n",
      "> NETPROFIT_Y2, Missing: 8398 (29.8%)\n",
      "> NETPROFIT_Y3, Missing: 14164 (50.2%)\n",
      "> NETSALES_Y0, Missing: 645 (2.3%)\n",
      "> NETSALES_Y1, Missing: 2428 (8.6%)\n",
      "> NETSALES_Y2, Missing: 8475 (30.0%)\n",
      "> NETSALES_Y3, Missing: 14213 (50.4%)\n",
      "> ASSETTURNOVER_Y0, Missing: 875 (3.1%)\n",
      "> ASSETTURNOVER_Y1, Missing: 2672 (9.5%)\n",
      "> ASSETTURNOVER_Y2, Missing: 8681 (30.8%)\n",
      "> ASSETTURNOVER_Y3, Missing: 14343 (50.8%)\n",
      "> OPERPROFIT_Y0, Missing: 587 (2.1%)\n",
      "> OPERPROFIT_Y1, Missing: 2352 (8.3%)\n",
      "> OPERPROFIT_Y2, Missing: 8412 (29.8%)\n",
      "> OPERPROFIT_Y3, Missing: 14169 (50.2%)\n",
      "> ARTurnover_Y0, Missing: 1024 (3.6%)\n",
      "> ARTurnover_Y1, Missing: 2815 (10.0%)\n",
      "> ARTurnover_Y2, Missing: 8775 (31.1%)\n",
      "> ARTurnover_Y3, Missing: 14404 (51.0%)\n",
      "> Inventory_Y0, Missing: 1125 (4.0%)\n",
      "> Inventory_Y1, Missing: 2936 (10.4%)\n",
      "> Inventory_Y2, Missing: 8877 (31.5%)\n",
      "> Inventory_Y3, Missing: 14465 (51.3%)\n",
      "> RETAINED_EARNINGS_Y0, Missing: 900 (3.2%)\n",
      "> RETAINED_EARNINGS_Y1, Missing: 2701 (9.6%)\n",
      "> RETAINED_EARNINGS_Y2, Missing: 8705 (30.8%)\n",
      "> RETAINED_EARNINGS_Y3, Missing: 14363 (50.9%)\n",
      "> FCF_Y0, Missing: 6533 (23.1%)\n",
      "> FCF_Y1, Missing: 8147 (28.9%)\n",
      "> FCF_Y2, Missing: 12829 (45.5%)\n",
      "> CCE_Y0, Missing: 1263 (4.5%)\n",
      "> CCE_Y1, Missing: 3071 (10.9%)\n",
      "> CCE_Y2, Missing: 8981 (31.8%)\n",
      "> CCE_Y3, Missing: 14540 (51.5%)\n"
     ]
    }
   ],
   "source": [
    "for i in range(cmeg_df.shape[1]):\n",
    "    n_miss = cmeg_df.iloc[:, [i]].isnull().sum()\n",
    "    perc = n_miss / cmeg_df.shape[0] * 100\n",
    "    print('> %s, Missing: %d (%.1f%%)' % (cmeg_df.columns[i], n_miss, perc))"
   ]
  },
  {
   "cell_type": "code",
   "execution_count": 5,
   "metadata": {},
   "outputs": [],
   "source": [
    "#non-financial features\n",
    "non_fin_features = ['ROW', 'Corp_Residence_Country_Code', 'BR Code', 'Period', 'CUSTOMER_ID', 'Final_IG', 'B_PLUS_FLAG']\n",
    "#financial features\n",
    "fin_features = np.sort(list(set(cmeg_df.columns) - set(non_fin_features)))"
   ]
  },
  {
   "cell_type": "code",
   "execution_count": 6,
   "metadata": {},
   "outputs": [
    {
     "name": "stdout",
     "output_type": "stream",
     "text": [
      "1024 data records are dropped due to ARTurnover_3YearAverage\n",
      "\n",
      "75 data records are dropped due to ASSETTURNOVER_3YearAverage\n",
      "\n",
      "61 data records are dropped due to CAPITALIZATION_3YearAverage\n",
      "\n",
      "280 data records are dropped due to CCE_3YearAverage\n",
      "\n",
      "0 data records are dropped due to CURRENTASSET_3YearAverage\n",
      "\n",
      "0 data records are dropped due to CURRENTLIABILITY_3YearAverage\n",
      "\n",
      "2266 data records are dropped due to Capex2Dep_3YearAverage\n",
      "\n",
      "0 data records are dropped due to DEBTSERVCOV_3YearAverage\n",
      "\n",
      "0 data records are dropped due to EBITDAR_3YearAverage\n",
      "\n",
      "0 data records are dropped due to EBITDA_3YearAverage\n",
      "\n",
      "4462 data records are dropped due to FCF_3YearAverage\n",
      "\n",
      "0 data records are dropped due to FIXEDASSET_3YearAverage\n",
      "\n",
      "0 data records are dropped due to FIXEDCHARGECOV_3YearAverage\n",
      "\n",
      "2501 data records are dropped due to INVENTORYDAYS_3YearAverage\n",
      "\n",
      "0 data records are dropped due to Inventory_3YearAverage\n",
      "\n",
      "0 data records are dropped due to LEASERENTEXP_3YearAverage\n",
      "\n",
      "0 data records are dropped due to NETPROFIT_3YearAverage\n",
      "\n",
      "0 data records are dropped due to NETSALES_3YearAverage\n",
      "\n",
      "0 data records are dropped due to NONCURRLIA_3YearAverage\n",
      "\n",
      "0 data records are dropped due to OPERPROFIT_3YearAverage\n",
      "\n",
      "1 data records are dropped due to RETAINED_EARNINGS_3YearAverage\n",
      "\n",
      "0 data records are dropped due to TOTALASSET_3YearAverage\n",
      "\n",
      "0 data records are dropped due to TOTALDEBT_3YearAverage\n",
      "\n",
      "29 data records are dropped due to TOTALEQUITY_3YearAverage\n",
      "\n",
      "0 data records are dropped due to TOTALNETWORTH_3YearAverage\n",
      "\n",
      "0 data records are dropped due to TOTALREVENUE_3YearAverage\n",
      "\n",
      "0 data records are dropped due to TOTINTEXP_3YearAverage\n",
      "\n",
      "527 data records are dropped due to payableDAYS_3YearAverage\n",
      "\n",
      "0 data records are dropped due to receivabledays_3YearAverage\n",
      "\n",
      "0 data records are dropped due to tangibleNetWorth_3YearAverage\n",
      "\n"
     ]
    }
   ],
   "source": [
    "#calculating 3 year averages\n",
    "def three_year_average(X, col_y0, col_y1, col_y2, col):\n",
    "    X.drop(X[X[col_y0].isnull()].index, inplace = True)\n",
    "    \n",
    "    X[col] = X[col_y0]\n",
    "    \n",
    "    two_years_average = X[col_y1].notnull() & X[col_y2].isnull()\n",
    "    X.loc[two_years_average, col] = X.loc[two_years_average, col_y0] * 4/7 + X.loc[two_years_average, col_y1] * 3/7\n",
    "    \n",
    "    three_years_average = X[col_y1].notnull() & X[col_y2].notnull()\n",
    "    X.loc[three_years_average, col] = X.loc[three_years_average, col_y0] * 4/9 + X.loc[three_years_average, col_y1] * 3/9 + X.loc[three_years_average, col_y2] * 2/9\n",
    "    \n",
    "    return X\n",
    "\n",
    "cols_to_avg = []\n",
    "\n",
    "for col in fin_features:\n",
    "    if (col.endswith('Y0') and not col.endswith('growth_Y0')):\n",
    "        cols_to_avg.append([col, col[:-2] + 'Y1', col[:-2] + 'Y2', col[:-2] + '3YearAverage'])\n",
    "\n",
    "data_left = cmeg_df.copy()\n",
    "for col0, col1, col2, col in cols_to_avg:\n",
    "    orig_num_data = len(data_left)\n",
    "    data_left = three_year_average(data_left, col0, col1, col2, col)\n",
    "    remaining_data = len(data_left)\n",
    "    print((orig_num_data - remaining_data), 'data records are dropped due to ' + col + '\\n')"
   ]
  },
  {
   "cell_type": "code",
   "execution_count": 7,
   "metadata": {},
   "outputs": [],
   "source": [
    "data_left = data_left.reset_index(drop = True)"
   ]
  },
  {
   "cell_type": "code",
   "execution_count": 8,
   "metadata": {},
   "outputs": [],
   "source": [
    "#calculating financial ratios\n",
    "for i in range(4):\n",
    "    data_left['DEBT2EBITDA_Y'+str(i)] = data_left['TOTALDEBT_Y'+str(i)] / data_left['EBITDA_Y' + str(i)]\n",
    "    data_left['DEBT2CAPT_Y'+str(i)] = data_left['TOTALDEBT_Y'+str(i)] / data_left['CAPITALIZATION_Y' + str(i)]\n",
    "    data_left['DEBT2EQUITY_Y'+str(i)] = data_left['TOTALDEBT_Y'+str(i)] / data_left['TOTALEQUITY_Y' + str(i)]\n",
    "    data_left['DEBT2ASSET_Y'+str(i)] = data_left['TOTALDEBT_Y'+str(i)] / data_left['TOTALASSET_Y' + str(i)]\n",
    "    data_left['DEBT2TANGIBLENW_Y'+str(i)] = data_left['TOTALDEBT_Y'+str(i)] / data_left['tangibleNetWorth_Y' + str(i)]\n",
    "    data_left['CASH2ASSET_Y'+str(i)] = data_left['CCE_Y'+str(i)] / data_left['TOTALASSET_Y' + str(i)]\n",
    "    data_left['CASH2DEBT_Y'+str(i)] = data_left['CCE_Y'+str(i)] / data_left['TOTALDEBT_Y' + str(i)]\n",
    "    data_left['CA2CL_Y'+str(i)] = data_left['CURRENTASSET_Y'+str(i)] / data_left['CURRENTLIABILITY_Y' + str(i)]\n",
    "    \n",
    "for i in range(3):\n",
    "    data_left['DEBT2FCF_Y'+str(i)] = data_left['TOTALDEBT_Y' + str(i)] / data_left['FCF_Y'+str(i)]"
   ]
  },
  {
   "cell_type": "code",
   "execution_count": 9,
   "metadata": {},
   "outputs": [],
   "source": [
    "#adding new features\n",
    "new_feat = ['DEBT2EBITDA_Y','DEBT2CAPT_Y', 'DEBT2EQUITY_Y', 'DEBT2ASSET_Y', 'DEBT2TANGIBLENW_Y', 'CASH2ASSET_Y', 'CASH2DEBT_Y', 'CA2CL_Y']\n",
    "for i in range(4):\n",
    "    for feat in new_feat:\n",
    "        fin_features = list(fin_features) + list([feat + str(i)])\n",
    "\n",
    "for i in range(3):\n",
    "    fin_features = list(fin_features) + list(['DEBT2FCF_Y'+str(i)])\n",
    "\n",
    "fin_features = np.sort(fin_features)"
   ]
  },
  {
   "cell_type": "markdown",
   "metadata": {},
   "source": [
    "B_FLAG_DIVISIONS"
   ]
  },
  {
   "cell_type": "code",
   "execution_count": 10,
   "metadata": {},
   "outputs": [
    {
     "data": {
      "text/plain": [
       "B_PLUS_FLAG\n",
       "0     2752\n",
       "1    14246\n",
       "dtype: int64"
      ]
     },
     "execution_count": 10,
     "metadata": {},
     "output_type": "execute_result"
    }
   ],
   "source": [
    "data_left.groupby(['B_PLUS_FLAG']).size()"
   ]
  },
  {
   "cell_type": "markdown",
   "metadata": {},
   "source": [
    "Getting top 20 industry codes with most records"
   ]
  },
  {
   "cell_type": "code",
   "execution_count": 11,
   "metadata": {},
   "outputs": [
    {
     "data": {
      "text/plain": [
       "5     5016\n",
       "12    1782\n",
       "4     1019\n",
       "21     851\n",
       "30     756\n",
       "13     567\n",
       "0      565\n",
       "8      545\n",
       "11     521\n",
       "19     448\n",
       "42     364\n",
       "2      342\n",
       "18     329\n",
       "3      320\n",
       "33     319\n",
       "16     286\n",
       "34     282\n",
       "26     270\n",
       "35     260\n",
       "24     152\n",
       "Name: BR Code, dtype: int64"
      ]
     },
     "execution_count": 11,
     "metadata": {},
     "output_type": "execute_result"
    }
   ],
   "source": [
    "top_br_code = data_left.groupby(['BR Code']).count().sort_values(by = 'ROW', ascending = False).head(20).reset_index()\n",
    "top_br = top_br_code['BR Code'].tolist()\n",
    "data = data_left[data_left['BR Code'].isin(top_br)]\n",
    "data['BR Code'].value_counts()"
   ]
  },
  {
   "cell_type": "markdown",
   "metadata": {},
   "source": [
    "Relationship between B_PLUS_Flag and Industry Code"
   ]
  },
  {
   "cell_type": "code",
   "execution_count": 12,
   "metadata": {},
   "outputs": [
    {
     "data": {
      "text/plain": [
       "<matplotlib.axes._subplots.AxesSubplot at 0x2683ebc8108>"
      ]
     },
     "execution_count": 12,
     "metadata": {},
     "output_type": "execute_result"
    },
    {
     "data": {
      "image/png": "[encoded data removed]",
      "text/plain": [
       "<Figure size 720x720 with 1 Axes>"
      ]
     },
     "metadata": {
      "needs_background": "light"
     },
     "output_type": "display_data"
    }
   ],
   "source": [
    "data.groupby(['BR Code', 'B_PLUS_FLAG']).B_PLUS_FLAG.count().unstack().plot(kind='bar', legend=True, figsize = (10,10) )"
   ]
  },
  {
   "cell_type": "code",
   "execution_count": 13,
   "metadata": {},
   "outputs": [
    {
     "data": {
      "text/plain": [
       "BR Code  B_PLUS_FLAG\n",
       "0        0               107\n",
       "         1               458\n",
       "2        0                34\n",
       "         1               308\n",
       "3        0                33\n",
       "         1               287\n",
       "4        0               168\n",
       "         1               851\n",
       "5        0               918\n",
       "         1              4098\n",
       "8        0                68\n",
       "         1               477\n",
       "11       0               136\n",
       "         1               385\n",
       "12       0               178\n",
       "         1              1604\n",
       "13       0                80\n",
       "         1               487\n",
       "16       0                63\n",
       "         1               223\n",
       "18       0                44\n",
       "         1               285\n",
       "19       0                76\n",
       "         1               372\n",
       "21       0               130\n",
       "         1               721\n",
       "24       0                23\n",
       "         1               129\n",
       "26       0                21\n",
       "         1               249\n",
       "30       0                28\n",
       "         1               728\n",
       "33       0               149\n",
       "         1               170\n",
       "34       0                59\n",
       "         1               223\n",
       "35       0                24\n",
       "         1               236\n",
       "42       0                40\n",
       "         1               324\n",
       "dtype: int64"
      ]
     },
     "execution_count": 13,
     "metadata": {},
     "output_type": "execute_result"
    }
   ],
   "source": [
    "data.groupby(['BR Code', 'B_PLUS_FLAG']).size()"
   ]
  },
  {
   "cell_type": "markdown",
   "metadata": {},
   "source": [
    "Industry codes like 2,3,8,12,26,30,42 have strong affinity to 1"
   ]
  },
  {
   "cell_type": "markdown",
   "metadata": {},
   "source": [
    "Analyzing top 5 industry codes which have the most records"
   ]
  },
  {
   "cell_type": "code",
   "execution_count": 14,
   "metadata": {},
   "outputs": [
    {
     "name": "stderr",
     "output_type": "stream",
     "text": [
      "C:\\Users\\subha\\Anaconda3\\lib\\site-packages\\ipykernel_launcher.py:2: SettingWithCopyWarning: \n",
      "A value is trying to be set on a copy of a slice from a DataFrame.\n",
      "Try using .loc[row_indexer,col_indexer] = value instead\n",
      "\n",
      "See the caveats in the documentation: https://pandas.pydata.org/pandas-docs/stable/user_guide/indexing.html#returning-a-view-versus-a-copy\n",
      "  \n",
      "C:\\Users\\subha\\Anaconda3\\lib\\site-packages\\ipykernel_launcher.py:3: SettingWithCopyWarning: \n",
      "A value is trying to be set on a copy of a slice from a DataFrame.\n",
      "Try using .loc[row_indexer,col_indexer] = value instead\n",
      "\n",
      "See the caveats in the documentation: https://pandas.pydata.org/pandas-docs/stable/user_guide/indexing.html#returning-a-view-versus-a-copy\n",
      "  This is separate from the ipykernel package so we can avoid doing imports until\n",
      "C:\\Users\\subha\\Anaconda3\\lib\\site-packages\\ipykernel_launcher.py:4: SettingWithCopyWarning: \n",
      "A value is trying to be set on a copy of a slice from a DataFrame.\n",
      "Try using .loc[row_indexer,col_indexer] = value instead\n",
      "\n",
      "See the caveats in the documentation: https://pandas.pydata.org/pandas-docs/stable/user_guide/indexing.html#returning-a-view-versus-a-copy\n",
      "  after removing the cwd from sys.path.\n",
      "C:\\Users\\subha\\Anaconda3\\lib\\site-packages\\ipykernel_launcher.py:5: SettingWithCopyWarning: \n",
      "A value is trying to be set on a copy of a slice from a DataFrame.\n",
      "Try using .loc[row_indexer,col_indexer] = value instead\n",
      "\n",
      "See the caveats in the documentation: https://pandas.pydata.org/pandas-docs/stable/user_guide/indexing.html#returning-a-view-versus-a-copy\n",
      "  \"\"\"\n"
     ]
    }
   ],
   "source": [
    "top_5_br = data_left[data_left['BR Code'].isin([5,12,4,21,30])]\n",
    "top_5_br['Debt2cap_quantile'] = pd.qcut(top_5_br['DEBT2CAPT_Y0'], 4, labels = False)\n",
    "top_5_br['Debt2equity_quantile'] = pd.qcut(top_5_br['DEBT2EQUITY_Y0'], 4, labels = False)\n",
    "top_5_br['Cash2asset_quantile'] = pd.qcut(top_5_br['CASH2ASSET_Y0'], 4, labels = False)\n",
    "top_5_br['Debt2asset_quantile'] = pd.qcut(top_5_br['DEBT2ASSET_Y0'], 4, labels = False)"
   ]
  },
  {
   "cell_type": "markdown",
   "metadata": {},
   "source": [
    "Looking at relation between industry codes and cash2asset"
   ]
  },
  {
   "cell_type": "code",
   "execution_count": 15,
   "metadata": {},
   "outputs": [
    {
     "data": {
      "text/plain": [
       "BR Code  Cash2asset_quantile\n",
       "4        0                       243\n",
       "         1                       251\n",
       "         2                       278\n",
       "         3                       247\n",
       "5        0                      1273\n",
       "         1                      1236\n",
       "         2                      1235\n",
       "         3                      1272\n",
       "12       0                       432\n",
       "         1                       459\n",
       "         2                       422\n",
       "         3                       469\n",
       "21       0                       228\n",
       "         1                       201\n",
       "         2                       226\n",
       "         3                       196\n",
       "30       0                       180\n",
       "         1                       209\n",
       "         2                       195\n",
       "         3                       172\n",
       "dtype: int64"
      ]
     },
     "execution_count": 15,
     "metadata": {},
     "output_type": "execute_result"
    }
   ],
   "source": [
    "top_5_br.groupby(['BR Code', 'Cash2asset_quantile']).size()"
   ]
  },
  {
   "cell_type": "markdown",
   "metadata": {},
   "source": [
    "No clear majority in any of the quantiles for any of the industry codes"
   ]
  },
  {
   "cell_type": "markdown",
   "metadata": {},
   "source": [
    "Looking at relation between industry codes and Debt2Equity"
   ]
  },
  {
   "cell_type": "code",
   "execution_count": 16,
   "metadata": {},
   "outputs": [
    {
     "data": {
      "text/plain": [
       "<matplotlib.axes._subplots.AxesSubplot at 0x26844db7948>"
      ]
     },
     "execution_count": 16,
     "metadata": {},
     "output_type": "execute_result"
    },
    {
     "data": {
      "image/png": "[encoded data removed]",
      "text/plain": [
       "<Figure size 720x720 with 1 Axes>"
      ]
     },
     "metadata": {
      "needs_background": "light"
     },
     "output_type": "display_data"
    }
   ],
   "source": [
    "top_5_br.groupby(['BR Code', 'Debt2equity_quantile']).Debt2equity_quantile.count().unstack().plot(kind='bar', legend=True, figsize = (10,10) )"
   ]
  },
  {
   "cell_type": "code",
   "execution_count": 17,
   "metadata": {},
   "outputs": [
    {
     "data": {
      "text/plain": [
       "<matplotlib.axes._subplots.AxesSubplot at 0x26844ce35c8>"
      ]
     },
     "execution_count": 17,
     "metadata": {},
     "output_type": "execute_result"
    },
    {
     "data": {
      "image/png": "[encoded data removed]",
      "text/plain": [
       "<Figure size 720x720 with 1 Axes>"
      ]
     },
     "metadata": {
      "needs_background": "light"
     },
     "output_type": "display_data"
    }
   ],
   "source": [
    "top_5_br.groupby(['BR Code', 'Debt2asset_quantile']).Debt2asset_quantile.count().unstack().plot(kind='bar', legend=True, figsize = (10,10) )"
   ]
  },
  {
   "cell_type": "code",
   "execution_count": 18,
   "metadata": {},
   "outputs": [
    {
     "data": {
      "text/plain": [
       "BR Code  Debt2equity_quantile\n",
       "4        0                        257\n",
       "         1                        274\n",
       "         2                        233\n",
       "         3                        255\n",
       "5        0                       1276\n",
       "         1                       1255\n",
       "         2                       1258\n",
       "         3                       1227\n",
       "12       0                        434\n",
       "         1                        444\n",
       "         2                        452\n",
       "         3                        452\n",
       "21       0                        210\n",
       "         1                        204\n",
       "         2                        216\n",
       "         3                        221\n",
       "30       0                        179\n",
       "         1                        179\n",
       "         2                        197\n",
       "         3                        201\n",
       "dtype: int64"
      ]
     },
     "execution_count": 18,
     "metadata": {},
     "output_type": "execute_result"
    }
   ],
   "source": [
    "top_5_br.groupby(['BR Code', 'Debt2equity_quantile']).size()"
   ]
  },
  {
   "cell_type": "code",
   "execution_count": 19,
   "metadata": {},
   "outputs": [
    {
     "data": {
      "text/plain": [
       "BR Code  Debt2asset_quantile\n",
       "4        0                       281\n",
       "         1                       254\n",
       "         2                       224\n",
       "         3                       260\n",
       "5        0                      1258\n",
       "         1                      1271\n",
       "         2                      1267\n",
       "         3                      1220\n",
       "12       0                       417\n",
       "         1                       421\n",
       "         2                       482\n",
       "         3                       462\n",
       "21       0                       219\n",
       "         1                       221\n",
       "         2                       191\n",
       "         3                       220\n",
       "30       0                       181\n",
       "         1                       189\n",
       "         2                       192\n",
       "         3                       194\n",
       "dtype: int64"
      ]
     },
     "execution_count": 19,
     "metadata": {},
     "output_type": "execute_result"
    }
   ],
   "source": [
    "top_5_br.groupby(['BR Code', 'Debt2asset_quantile']).size()"
   ]
  },
  {
   "cell_type": "code",
   "execution_count": null,
   "metadata": {},
   "outputs": [],
   "source": []
  },
  {
   "cell_type": "code",
   "execution_count": 21,
   "metadata": {},
   "outputs": [
    {
     "name": "stderr",
     "output_type": "stream",
     "text": [
      "C:\\Users\\subha\\Anaconda3\\lib\\site-packages\\ipykernel_launcher.py:1: SettingWithCopyWarning: \n",
      "A value is trying to be set on a copy of a slice from a DataFrame.\n",
      "Try using .loc[row_indexer,col_indexer] = value instead\n",
      "\n",
      "See the caveats in the documentation: https://pandas.pydata.org/pandas-docs/stable/user_guide/indexing.html#returning-a-view-versus-a-copy\n",
      "  \"\"\"Entry point for launching an IPython kernel.\n"
     ]
    },
    {
     "data": {
      "text/plain": [
       "BR Code  TOTALREVENUE_3YearAverage_quantile\n",
       "4        0                                      184\n",
       "         1                                      210\n",
       "         2                                      258\n",
       "         3                                      367\n",
       "5        0                                     1290\n",
       "         1                                     1271\n",
       "         2                                     1216\n",
       "         3                                     1239\n",
       "12       0                                      367\n",
       "         1                                      435\n",
       "         2                                      488\n",
       "         3                                      492\n",
       "21       0                                      252\n",
       "         1                                      214\n",
       "         2                                      209\n",
       "         3                                      176\n",
       "30       0                                      263\n",
       "         1                                      226\n",
       "         2                                      185\n",
       "         3                                       82\n",
       "dtype: int64"
      ]
     },
     "execution_count": 21,
     "metadata": {},
     "output_type": "execute_result"
    }
   ],
   "source": [
    "top_5_br['TOTALREVENUE_3YearAverage_quantile'] = pd.qcut(top_5_br['TOTALREVENUE_3YearAverage'], 4, labels = False)\n",
    "top_5_br.groupby(['BR Code', 'TOTALREVENUE_3YearAverage_quantile']).size()"
   ]
  },
  {
   "cell_type": "code",
   "execution_count": 22,
   "metadata": {},
   "outputs": [
    {
     "data": {
      "text/plain": [
       "<matplotlib.axes._subplots.AxesSubplot at 0x2683e479a48>"
      ]
     },
     "execution_count": 22,
     "metadata": {},
     "output_type": "execute_result"
    },
    {
     "data": {
      "image/png": "[encoded data removed]",
      "text/plain": [
       "<Figure size 720x720 with 1 Axes>"
      ]
     },
     "metadata": {
      "needs_background": "light"
     },
     "output_type": "display_data"
    }
   ],
   "source": [
    "top_5_br.groupby(['BR Code', 'TOTALREVENUE_3YearAverage_quantile']).TOTALREVENUE_3YearAverage_quantile.count().unstack().plot(kind='bar', legend=True, figsize = (10,10) )"
   ]
  },
  {
   "cell_type": "markdown",
   "metadata": {},
   "source": [
    "Industry code 4 have majority of their records in the higher quintals whereas industry code 30 has most of its records in the lower quintals"
   ]
  },
  {
   "cell_type": "code",
   "execution_count": 25,
   "metadata": {},
   "outputs": [
    {
     "data": {
      "text/plain": [
       "<matplotlib.axes._subplots.AxesSubplot at 0x2683e658e48>"
      ]
     },
     "execution_count": 25,
     "metadata": {},
     "output_type": "execute_result"
    },
    {
     "data": {
      "image/png": "[encoded data removed]",
      "text/plain": [
       "<Figure size 720x720 with 1 Axes>"
      ]
     },
     "metadata": {
      "needs_background": "light"
     },
     "output_type": "display_data"
    }
   ],
   "source": [
    "top_5_br.groupby(['BR Code', 'TOTALASSET_3YearAverage_quantile']).TOTALASSET_3YearAverage_quantile.count().unstack().plot(kind='bar', legend=True, figsize = (10,10) )"
   ]
  },
  {
   "cell_type": "code",
   "execution_count": 26,
   "metadata": {},
   "outputs": [
    {
     "name": "stderr",
     "output_type": "stream",
     "text": [
      "C:\\Users\\subha\\Anaconda3\\lib\\site-packages\\ipykernel_launcher.py:1: SettingWithCopyWarning: \n",
      "A value is trying to be set on a copy of a slice from a DataFrame.\n",
      "Try using .loc[row_indexer,col_indexer] = value instead\n",
      "\n",
      "See the caveats in the documentation: https://pandas.pydata.org/pandas-docs/stable/user_guide/indexing.html#returning-a-view-versus-a-copy\n",
      "  \"\"\"Entry point for launching an IPython kernel.\n"
     ]
    },
    {
     "data": {
      "text/plain": [
       "BR Code  TOTALASSET_3YearAverage_quantile\n",
       "4        0                                    241\n",
       "         1                                    241\n",
       "         2                                    250\n",
       "         3                                    287\n",
       "5        0                                   1290\n",
       "         1                                   1231\n",
       "         2                                   1210\n",
       "         3                                   1285\n",
       "12       0                                    463\n",
       "         1                                    490\n",
       "         2                                    478\n",
       "         3                                    351\n",
       "21       0                                    177\n",
       "         1                                    213\n",
       "         2                                    221\n",
       "         3                                    240\n",
       "30       0                                    185\n",
       "         1                                    181\n",
       "         2                                    197\n",
       "         3                                    193\n",
       "dtype: int64"
      ]
     },
     "execution_count": 26,
     "metadata": {},
     "output_type": "execute_result"
    }
   ],
   "source": [
    "top_5_br['TOTALASSET_3YearAverage_quantile'] = pd.qcut(top_5_br['TOTALASSET_3YearAverage'], 4, labels = False)\n",
    "top_5_br.groupby(['BR Code', 'TOTALASSET_3YearAverage_quantile']).size()"
   ]
  },
  {
   "cell_type": "code",
   "execution_count": null,
   "metadata": {},
   "outputs": [],
   "source": []
  },
  {
   "cell_type": "code",
   "execution_count": 27,
   "metadata": {},
   "outputs": [
    {
     "data": {
      "text/plain": [
       "B_PLUS_FLAG  Revenue_increase\n",
       "0            N                   1461\n",
       "             Y                   1291\n",
       "1            N                   7261\n",
       "             Y                   6985\n",
       "dtype: int64"
      ]
     },
     "execution_count": 27,
     "metadata": {},
     "output_type": "execute_result"
    }
   ],
   "source": [
    "data_left['Revenue_increase']=np.where(data_left['TOTALREVENUE_Y0'] > data_left['TOTALREVENUE_Y1'], 'Y','N')\n",
    "data_left.groupby(['B_PLUS_FLAG', 'Revenue_increase']).size()"
   ]
  },
  {
   "cell_type": "markdown",
   "metadata": {},
   "source": [
    "Relation between revenue increase and Final_IG"
   ]
  },
  {
   "cell_type": "code",
   "execution_count": 28,
   "metadata": {},
   "outputs": [
    {
     "data": {
      "text/plain": [
       "<matplotlib.axes._subplots.AxesSubplot at 0x2683e6c3ec8>"
      ]
     },
     "execution_count": 28,
     "metadata": {},
     "output_type": "execute_result"
    },
    {
     "data": {
      "image/png": "[encoded data removed]",
      "text/plain": [
       "<Figure size 720x720 with 1 Axes>"
      ]
     },
     "metadata": {
      "needs_background": "light"
     },
     "output_type": "display_data"
    }
   ],
   "source": [
    "data_left.groupby(['Final_IG', 'Revenue_increase']).Revenue_increase.count().unstack().plot(kind='bar', legend=True, figsize = (10,10) )"
   ]
  },
  {
   "cell_type": "code",
   "execution_count": 29,
   "metadata": {},
   "outputs": [
    {
     "data": {
      "text/plain": [
       "Final_IG  Revenue_increase\n",
       "1         N                      3\n",
       "          Y                      3\n",
       "2         N                     68\n",
       "          Y                     53\n",
       "3         N                    174\n",
       "          Y                    182\n",
       "4         N                    680\n",
       "          Y                    605\n",
       "5         N                   1083\n",
       "          Y                   1027\n",
       "6         N                   1622\n",
       "          Y                   1657\n",
       "7         N                   1882\n",
       "          Y                   1775\n",
       "8         N                   1749\n",
       "          Y                   1683\n",
       "9         N                    702\n",
       "          Y                    668\n",
       "10        N                    321\n",
       "          Y                    286\n",
       "11        N                    204\n",
       "          Y                    167\n",
       "12        N                     85\n",
       "          Y                     76\n",
       "13        N                     62\n",
       "          Y                     50\n",
       "14        N                     14\n",
       "          Y                      9\n",
       "15        N                      9\n",
       "          Y                      5\n",
       "17        N                     64\n",
       "          Y                     30\n",
       "dtype: int64"
      ]
     },
     "execution_count": 29,
     "metadata": {},
     "output_type": "execute_result"
    }
   ],
   "source": [
    "data_left.groupby(['Final_IG', 'Revenue_increase']).size()"
   ]
  },
  {
   "cell_type": "markdown",
   "metadata": {},
   "source": [
    "Revenue increase does not have much of an impact in higher FINAL_IG"
   ]
  },
  {
   "cell_type": "markdown",
   "metadata": {},
   "source": [
    "Relation between Asset increase and Final_IG"
   ]
  },
  {
   "cell_type": "code",
   "execution_count": null,
   "metadata": {},
   "outputs": [],
   "source": []
  },
  {
   "cell_type": "code",
   "execution_count": 31,
   "metadata": {},
   "outputs": [
    {
     "data": {
      "text/plain": [
       "Final_IG  Asset_increase\n",
       "1         N                    2\n",
       "          Y                    4\n",
       "2         N                   57\n",
       "          Y                   64\n",
       "3         N                  183\n",
       "          Y                  173\n",
       "4         N                  649\n",
       "          Y                  636\n",
       "5         N                 1064\n",
       "          Y                 1046\n",
       "6         N                 1680\n",
       "          Y                 1599\n",
       "7         N                 1832\n",
       "          Y                 1825\n",
       "8         N                 1797\n",
       "          Y                 1635\n",
       "9         N                  711\n",
       "          Y                  659\n",
       "10        N                  338\n",
       "          Y                  269\n",
       "11        N                  187\n",
       "          Y                  184\n",
       "12        N                   92\n",
       "          Y                   69\n",
       "13        N                   56\n",
       "          Y                   56\n",
       "14        N                   12\n",
       "          Y                   11\n",
       "15        N                   10\n",
       "          Y                    4\n",
       "17        N                   62\n",
       "          Y                   32\n",
       "dtype: int64"
      ]
     },
     "execution_count": 31,
     "metadata": {},
     "output_type": "execute_result"
    }
   ],
   "source": [
    "data_left['Asset_increase']=np.where(data_left['TOTALASSET_Y0'] > data_left['TOTALASSET_Y1'], 'Y','N')\n",
    "data_left.groupby(['Final_IG', 'Asset_increase']).size()"
   ]
  },
  {
   "cell_type": "code",
   "execution_count": 32,
   "metadata": {},
   "outputs": [
    {
     "data": {
      "text/plain": [
       "<matplotlib.axes._subplots.AxesSubplot at 0x2683e864bc8>"
      ]
     },
     "execution_count": 32,
     "metadata": {},
     "output_type": "execute_result"
    },
    {
     "data": {
      "image/png": "[encoded data removed]",
      "text/plain": [
       "<Figure size 720x720 with 1 Axes>"
      ]
     },
     "metadata": {
      "needs_background": "light"
     },
     "output_type": "display_data"
    }
   ],
   "source": [
    "data_left.groupby(['Final_IG', 'Asset_increase']).Asset_increase.count().unstack().plot(kind='bar', legend=True, figsize = (10,10) )"
   ]
  },
  {
   "cell_type": "markdown",
   "metadata": {},
   "source": [
    "Asset increase does not have much of an impact on Final_IG"
   ]
  }
 ],
 "metadata": {
  "kernelspec": {
   "display_name": "Python 3",
   "language": "python",
   "name": "python3"
  },
  "language_info": {
   "codemirror_mode": {
    "name": "ipython",
    "version": 3
   },
   "file_extension": ".py",
   "mimetype": "text/x-python",
   "name": "python",
   "nbconvert_exporter": "python",
   "pygments_lexer": "ipython3",
   "version": "3.7.4"
  }
 },
 "nbformat": 4,
 "nbformat_minor": 2
}

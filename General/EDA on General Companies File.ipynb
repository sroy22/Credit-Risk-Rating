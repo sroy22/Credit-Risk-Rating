{
 "cells": [
  {
   "cell_type": "markdown",
   "metadata": {},
   "source": [
    "Performing Exploratory Data Analysis on the General Company File"
   ]
  },
  {
   "cell_type": "code",
   "execution_count": 2,
   "metadata": {},
   "outputs": [],
   "source": [
    "import pandas as pd\n",
    "import numpy as np\n",
    "\n",
    "import matplotlib.pyplot as plt\n",
    "import seaborn as sns"
   ]
  },
  {
   "cell_type": "code",
   "execution_count": 3,
   "metadata": {},
   "outputs": [],
   "source": [
    "general_df = pd.read_excel('general_industries_df_case_competition_scrambled_train.xlsx', sheet_name='Data')"
   ]
  },
  {
   "cell_type": "code",
   "execution_count": 4,
   "metadata": {},
   "outputs": [
    {
     "data": {
      "text/html": [
       "<div>\n",
       "<style scoped>\n",
       "    .dataframe tbody tr th:only-of-type {\n",
       "        vertical-align: middle;\n",
       "    }\n",
       "\n",
       "    .dataframe tbody tr th {\n",
       "        vertical-align: top;\n",
       "    }\n",
       "\n",
       "    .dataframe thead th {\n",
       "        text-align: right;\n",
       "    }\n",
       "</style>\n",
       "<table border=\"1\" class=\"dataframe\">\n",
       "  <thead>\n",
       "    <tr style=\"text-align: right;\">\n",
       "      <th></th>\n",
       "      <th>ROW</th>\n",
       "      <th>Corp_Residence_Country_Code</th>\n",
       "      <th>BR Code</th>\n",
       "      <th>Period</th>\n",
       "      <th>CUSTOMER_ID</th>\n",
       "      <th>Final_IG</th>\n",
       "      <th>B_PLUS_FLAG</th>\n",
       "      <th>EBITDA_Y0</th>\n",
       "      <th>EBITDA_Y1</th>\n",
       "      <th>EBITDA_Y2</th>\n",
       "      <th>...</th>\n",
       "      <th>RETAINED_EARNINGS_Y1</th>\n",
       "      <th>RETAINED_EARNINGS_Y2</th>\n",
       "      <th>RETAINED_EARNINGS_Y3</th>\n",
       "      <th>FCF_Y0</th>\n",
       "      <th>FCF_Y1</th>\n",
       "      <th>FCF_Y2</th>\n",
       "      <th>CCE_Y0</th>\n",
       "      <th>CCE_Y1</th>\n",
       "      <th>CCE_Y2</th>\n",
       "      <th>CCE_Y3</th>\n",
       "    </tr>\n",
       "  </thead>\n",
       "  <tbody>\n",
       "    <tr>\n",
       "      <th>0</th>\n",
       "      <td>28464</td>\n",
       "      <td>2</td>\n",
       "      <td>4</td>\n",
       "      <td>2017Q1</td>\n",
       "      <td>8228</td>\n",
       "      <td>8</td>\n",
       "      <td>1</td>\n",
       "      <td>365604.767017</td>\n",
       "      <td>341575.264490</td>\n",
       "      <td>368053.254720</td>\n",
       "      <td>...</td>\n",
       "      <td>373864.705143</td>\n",
       "      <td>369694.522194</td>\n",
       "      <td>339867.222381</td>\n",
       "      <td>364236.569625</td>\n",
       "      <td>NaN</td>\n",
       "      <td>NaN</td>\n",
       "      <td>350599.333501</td>\n",
       "      <td>368971.137940</td>\n",
       "      <td>342125.692144</td>\n",
       "      <td>360512.171013</td>\n",
       "    </tr>\n",
       "    <tr>\n",
       "      <th>1</th>\n",
       "      <td>39693</td>\n",
       "      <td>3</td>\n",
       "      <td>63</td>\n",
       "      <td>2018Q4</td>\n",
       "      <td>12315</td>\n",
       "      <td>7</td>\n",
       "      <td>1</td>\n",
       "      <td>748378.874160</td>\n",
       "      <td>593272.587785</td>\n",
       "      <td>606298.959960</td>\n",
       "      <td>...</td>\n",
       "      <td>605658.829652</td>\n",
       "      <td>510342.796894</td>\n",
       "      <td>705321.337524</td>\n",
       "      <td>577814.590748</td>\n",
       "      <td>464235.132963</td>\n",
       "      <td>617901.795410</td>\n",
       "      <td>551960.406798</td>\n",
       "      <td>460369.335404</td>\n",
       "      <td>391812.102849</td>\n",
       "      <td>416234.858630</td>\n",
       "    </tr>\n",
       "    <tr>\n",
       "      <th>2</th>\n",
       "      <td>19535</td>\n",
       "      <td>15</td>\n",
       "      <td>13</td>\n",
       "      <td>2018Q2</td>\n",
       "      <td>5504</td>\n",
       "      <td>6</td>\n",
       "      <td>1</td>\n",
       "      <td>379351.685119</td>\n",
       "      <td>394182.092405</td>\n",
       "      <td>380051.883962</td>\n",
       "      <td>...</td>\n",
       "      <td>372940.581700</td>\n",
       "      <td>356833.167530</td>\n",
       "      <td>367306.071112</td>\n",
       "      <td>387950.807778</td>\n",
       "      <td>389893.413929</td>\n",
       "      <td>364549.242197</td>\n",
       "      <td>370680.802471</td>\n",
       "      <td>371698.484955</td>\n",
       "      <td>362778.394801</td>\n",
       "      <td>366921.505401</td>\n",
       "    </tr>\n",
       "    <tr>\n",
       "      <th>3</th>\n",
       "      <td>4286</td>\n",
       "      <td>2</td>\n",
       "      <td>4</td>\n",
       "      <td>2020Q1</td>\n",
       "      <td>1107</td>\n",
       "      <td>8</td>\n",
       "      <td>1</td>\n",
       "      <td>363552.396086</td>\n",
       "      <td>371786.373645</td>\n",
       "      <td>371542.067484</td>\n",
       "      <td>...</td>\n",
       "      <td>356411.077910</td>\n",
       "      <td>342327.527537</td>\n",
       "      <td>366354.742233</td>\n",
       "      <td>372030.051844</td>\n",
       "      <td>374857.163137</td>\n",
       "      <td>362254.021673</td>\n",
       "      <td>366611.785072</td>\n",
       "      <td>344896.040064</td>\n",
       "      <td>367964.677168</td>\n",
       "      <td>350629.253166</td>\n",
       "    </tr>\n",
       "    <tr>\n",
       "      <th>4</th>\n",
       "      <td>39621</td>\n",
       "      <td>59</td>\n",
       "      <td>30</td>\n",
       "      <td>2019Q2</td>\n",
       "      <td>12294</td>\n",
       "      <td>8</td>\n",
       "      <td>1</td>\n",
       "      <td>368530.936855</td>\n",
       "      <td>367450.033454</td>\n",
       "      <td>358297.870364</td>\n",
       "      <td>...</td>\n",
       "      <td>355608.575949</td>\n",
       "      <td>351911.163051</td>\n",
       "      <td>NaN</td>\n",
       "      <td>NaN</td>\n",
       "      <td>NaN</td>\n",
       "      <td>NaN</td>\n",
       "      <td>350505.223417</td>\n",
       "      <td>347030.412041</td>\n",
       "      <td>360238.097158</td>\n",
       "      <td>NaN</td>\n",
       "    </tr>\n",
       "  </tbody>\n",
       "</table>\n",
       "<p>5 rows × 125 columns</p>\n",
       "</div>"
      ],
      "text/plain": [
       "     ROW  Corp_Residence_Country_Code  BR Code  Period  CUSTOMER_ID  Final_IG  \\\n",
       "0  28464                            2        4  2017Q1         8228         8   \n",
       "1  39693                            3       63  2018Q4        12315         7   \n",
       "2  19535                           15       13  2018Q2         5504         6   \n",
       "3   4286                            2        4  2020Q1         1107         8   \n",
       "4  39621                           59       30  2019Q2        12294         8   \n",
       "\n",
       "   B_PLUS_FLAG      EBITDA_Y0      EBITDA_Y1      EBITDA_Y2  ...  \\\n",
       "0            1  365604.767017  341575.264490  368053.254720  ...   \n",
       "1            1  748378.874160  593272.587785  606298.959960  ...   \n",
       "2            1  379351.685119  394182.092405  380051.883962  ...   \n",
       "3            1  363552.396086  371786.373645  371542.067484  ...   \n",
       "4            1  368530.936855  367450.033454  358297.870364  ...   \n",
       "\n",
       "   RETAINED_EARNINGS_Y1  RETAINED_EARNINGS_Y2  RETAINED_EARNINGS_Y3  \\\n",
       "0         373864.705143         369694.522194         339867.222381   \n",
       "1         605658.829652         510342.796894         705321.337524   \n",
       "2         372940.581700         356833.167530         367306.071112   \n",
       "3         356411.077910         342327.527537         366354.742233   \n",
       "4         355608.575949         351911.163051                   NaN   \n",
       "\n",
       "          FCF_Y0         FCF_Y1         FCF_Y2         CCE_Y0         CCE_Y1  \\\n",
       "0  364236.569625            NaN            NaN  350599.333501  368971.137940   \n",
       "1  577814.590748  464235.132963  617901.795410  551960.406798  460369.335404   \n",
       "2  387950.807778  389893.413929  364549.242197  370680.802471  371698.484955   \n",
       "3  372030.051844  374857.163137  362254.021673  366611.785072  344896.040064   \n",
       "4            NaN            NaN            NaN  350505.223417  347030.412041   \n",
       "\n",
       "          CCE_Y2         CCE_Y3  \n",
       "0  342125.692144  360512.171013  \n",
       "1  391812.102849  416234.858630  \n",
       "2  362778.394801  366921.505401  \n",
       "3  367964.677168  350629.253166  \n",
       "4  360238.097158            NaN  \n",
       "\n",
       "[5 rows x 125 columns]"
      ]
     },
     "execution_count": 4,
     "metadata": {},
     "output_type": "execute_result"
    }
   ],
   "source": [
    "general_df.head()"
   ]
  },
  {
   "cell_type": "code",
   "execution_count": 5,
   "metadata": {},
   "outputs": [],
   "source": [
    "general_df = general_df.sort_values(by = ['ROW'], ascending=False)"
   ]
  },
  {
   "cell_type": "code",
   "execution_count": 6,
   "metadata": {},
   "outputs": [
    {
     "name": "stdout",
     "output_type": "stream",
     "text": [
      "> ROW, Missing: 0 (0.0%)\n",
      "> Corp_Residence_Country_Code, Missing: 0 (0.0%)\n",
      "> BR Code, Missing: 0 (0.0%)\n",
      "> Period, Missing: 0 (0.0%)\n",
      "> CUSTOMER_ID, Missing: 0 (0.0%)\n",
      "> Final_IG, Missing: 0 (0.0%)\n",
      "> B_PLUS_FLAG, Missing: 0 (0.0%)\n",
      "> EBITDA_Y0, Missing: 0 (0.0%)\n",
      "> EBITDA_Y1, Missing: 2090 (7.3%)\n",
      "> EBITDA_Y2, Missing: 6664 (23.4%)\n",
      "> EBITDA_Y3, Missing: 11591 (40.7%)\n",
      "> TOTALASSET_Y0, Missing: 14 (0.0%)\n",
      "> TOTALASSET_Y1, Missing: 2095 (7.4%)\n",
      "> TOTALASSET_Y2, Missing: 6719 (23.6%)\n",
      "> TOTALASSET_Y3, Missing: 11634 (40.9%)\n",
      "> TOTALDEBT_Y0, Missing: 328 (1.2%)\n",
      "> TOTALDEBT_Y1, Missing: 2330 (8.2%)\n",
      "> TOTALDEBT_Y2, Missing: 6809 (23.9%)\n",
      "> TOTALDEBT_Y3, Missing: 11696 (41.1%)\n",
      "> TOTALREVENUE_Y0, Missing: 513 (1.8%)\n",
      "> TOTALREVENUE_Y1, Missing: 2478 (8.7%)\n",
      "> TOTALREVENUE_Y2, Missing: 6910 (24.3%)\n",
      "> TOTALREVENUE_Y3, Missing: 11776 (41.4%)\n",
      "> CURRENTASSET_Y0, Missing: 27 (0.1%)\n",
      "> CURRENTASSET_Y1, Missing: 2089 (7.3%)\n",
      "> CURRENTASSET_Y2, Missing: 6667 (23.4%)\n",
      "> CURRENTASSET_Y3, Missing: 11580 (40.7%)\n",
      "> FIXEDASSET_Y0, Missing: 338 (1.2%)\n",
      "> FIXEDASSET_Y1, Missing: 2319 (8.1%)\n",
      "> FIXEDASSET_Y2, Missing: 6791 (23.9%)\n",
      "> FIXEDASSET_Y3, Missing: 11666 (41.0%)\n",
      "> CURRENTLIABILITY_Y0, Missing: 316 (1.1%)\n",
      "> CURRENTLIABILITY_Y1, Missing: 2290 (8.0%)\n",
      "> CURRENTLIABILITY_Y2, Missing: 6777 (23.8%)\n",
      "> CURRENTLIABILITY_Y3, Missing: 11657 (41.0%)\n",
      "> NONCURRLIA_Y0, Missing: 336 (1.2%)\n",
      "> NONCURRLIA_Y1, Missing: 2333 (8.2%)\n",
      "> NONCURRLIA_Y2, Missing: 6811 (23.9%)\n",
      "> NONCURRLIA_Y3, Missing: 11697 (41.1%)\n",
      "> TOTALEQUITY_Y0, Missing: 72 (0.3%)\n",
      "> TOTALEQUITY_Y1, Missing: 2145 (7.5%)\n",
      "> TOTALEQUITY_Y2, Missing: 6766 (23.8%)\n",
      "> TOTALEQUITY_Y3, Missing: 11664 (41.0%)\n",
      "> TOTALNETWORTH_Y0, Missing: 69 (0.2%)\n",
      "> TOTALNETWORTH_Y1, Missing: 2141 (7.5%)\n",
      "> TOTALNETWORTH_Y2, Missing: 6763 (23.8%)\n",
      "> TOTALNETWORTH_Y3, Missing: 11663 (41.0%)\n",
      "> CAPITALIZATION_Y0, Missing: 40 (0.1%)\n",
      "> CAPITALIZATION_Y1, Missing: 2122 (7.5%)\n",
      "> CAPITALIZATION_Y2, Missing: 6748 (23.7%)\n",
      "> CAPITALIZATION_Y3, Missing: 11656 (40.9%)\n",
      "> TOTINTEXP_Y0, Missing: 371 (1.3%)\n",
      "> TOTINTEXP_Y1, Missing: 2343 (8.2%)\n",
      "> TOTINTEXP_Y2, Missing: 6813 (23.9%)\n",
      "> TOTINTEXP_Y3, Missing: 11686 (41.1%)\n",
      "> LEASERENTEXP_Y0, Missing: 381 (1.3%)\n",
      "> LEASERENTEXP_Y1, Missing: 2349 (8.3%)\n",
      "> LEASERENTEXP_Y2, Missing: 6819 (24.0%)\n",
      "> LEASERENTEXP_Y3, Missing: 11702 (41.1%)\n",
      "> EBITDAR_Y0, Missing: 0 (0.0%)\n",
      "> EBITDAR_Y1, Missing: 2110 (7.4%)\n",
      "> EBITDAR_Y2, Missing: 6687 (23.5%)\n",
      "> EBITDAR_Y3, Missing: 11609 (40.8%)\n",
      "> receivabledays_Y0, Missing: 539 (1.9%)\n",
      "> receivabledays_Y1, Missing: 2516 (8.8%)\n",
      "> receivabledays_Y2, Missing: 6950 (24.4%)\n",
      "> receivabledays_Y3, Missing: 11806 (41.5%)\n",
      "> INVENTORYDAYS_Y0, Missing: 2045 (7.2%)\n",
      "> INVENTORYDAYS_Y1, Missing: 3856 (13.5%)\n",
      "> INVENTORYDAYS_Y2, Missing: 8055 (28.3%)\n",
      "> INVENTORYDAYS_Y3, Missing: 12609 (44.3%)\n",
      "> payableDAYS_Y0, Missing: 760 (2.7%)\n",
      "> payableDAYS_Y1, Missing: 2714 (9.5%)\n",
      "> payableDAYS_Y2, Missing: 7083 (24.9%)\n",
      "> payableDAYS_Y3, Missing: 11891 (41.8%)\n",
      "> Capex2Dep_Y0, Missing: 3085 (10.8%)\n",
      "> Capex2Dep_Y1, Missing: 4750 (16.7%)\n",
      "> Capex2Dep_Y2, Missing: 8728 (30.7%)\n",
      "> tangibleNetWorth_Y0, Missing: 37 (0.1%)\n",
      "> tangibleNetWorth_Y1, Missing: 2096 (7.4%)\n",
      "> tangibleNetWorth_Y2, Missing: 6676 (23.5%)\n",
      "> tangibleNetWorth_Y3, Missing: 11582 (40.7%)\n",
      "> FIXEDCHARGECOV_Y0, Missing: 241 (0.8%)\n",
      "> FIXEDCHARGECOV_Y1, Missing: 2270 (8.0%)\n",
      "> FIXEDCHARGECOV_Y2, Missing: 6789 (23.9%)\n",
      "> FIXEDCHARGECOV_Y3, Missing: 11672 (41.0%)\n",
      "> DEBTSERVCOV_Y0, Missing: 371 (1.3%)\n",
      "> DEBTSERVCOV_Y1, Missing: 2375 (8.3%)\n",
      "> DEBTSERVCOV_Y2, Missing: 6847 (24.1%)\n",
      "> DEBTSERVCOV_Y3, Missing: 11724 (41.2%)\n",
      "> NETPROFIT_Y0, Missing: 0 (0.0%)\n",
      "> NETPROFIT_Y1, Missing: 2086 (7.3%)\n",
      "> NETPROFIT_Y2, Missing: 6657 (23.4%)\n",
      "> NETPROFIT_Y3, Missing: 11578 (40.7%)\n",
      "> NETSALES_Y0, Missing: 15 (0.1%)\n",
      "> NETSALES_Y1, Missing: 2106 (7.4%)\n",
      "> NETSALES_Y2, Missing: 6670 (23.4%)\n",
      "> NETSALES_Y3, Missing: 11592 (40.7%)\n",
      "> ASSETTURNOVER_Y0, Missing: 526 (1.8%)\n",
      "> ASSETTURNOVER_Y1, Missing: 2522 (8.9%)\n",
      "> ASSETTURNOVER_Y2, Missing: 7000 (24.6%)\n",
      "> ASSETTURNOVER_Y3, Missing: 11864 (41.7%)\n",
      "> OPERPROFIT_Y0, Missing: 3 (0.0%)\n",
      "> OPERPROFIT_Y1, Missing: 2089 (7.3%)\n",
      "> OPERPROFIT_Y2, Missing: 6661 (23.4%)\n",
      "> OPERPROFIT_Y3, Missing: 11578 (40.7%)\n",
      "> ARTurnover_Y0, Missing: 430 (1.5%)\n",
      "> ARTurnover_Y1, Missing: 2406 (8.5%)\n",
      "> ARTurnover_Y2, Missing: 6862 (24.1%)\n",
      "> ARTurnover_Y3, Missing: 11730 (41.2%)\n",
      "> INVENTORY_Y0, Missing: 454 (1.6%)\n",
      "> INVENTORY_Y1, Missing: 2433 (8.5%)\n",
      "> INVENTORY_Y2, Missing: 6878 (24.2%)\n",
      "> INVENTORY_Y3, Missing: 11743 (41.3%)\n",
      "> RETAINED_EARNINGS_Y0, Missing: 385 (1.4%)\n",
      "> RETAINED_EARNINGS_Y1, Missing: 2365 (8.3%)\n",
      "> RETAINED_EARNINGS_Y2, Missing: 6887 (24.2%)\n",
      "> RETAINED_EARNINGS_Y3, Missing: 11763 (41.3%)\n",
      "> FCF_Y0, Missing: 3557 (12.5%)\n",
      "> FCF_Y1, Missing: 5395 (19.0%)\n",
      "> FCF_Y2, Missing: 9392 (33.0%)\n",
      "> CCE_Y0, Missing: 418 (1.5%)\n",
      "> CCE_Y1, Missing: 2439 (8.6%)\n",
      "> CCE_Y2, Missing: 6957 (24.4%)\n",
      "> CCE_Y3, Missing: 11817 (41.5%)\n"
     ]
    }
   ],
   "source": [
    "for i in range(general_df.shape[1]):\n",
    "    n_miss = general_df.iloc[:, [i]].isnull().sum()\n",
    "    perc = n_miss / general_df.shape[0] * 100\n",
    "    print('> %s, Missing: %d (%.1f%%)' % (general_df.columns[i], n_miss, perc))"
   ]
  },
  {
   "cell_type": "code",
   "execution_count": 7,
   "metadata": {},
   "outputs": [],
   "source": [
    "#non-financial-features\n",
    "non_fin_features = ['ROW', 'Corp_Residence_Country_Code', 'BR Code', 'Period', 'CUSTOMER_ID', 'Final_IG', 'B_PLUS_FLAG']\n",
    "#financial-features\n",
    "fin_features = np.sort(list(set(general_df.columns) - set(non_fin_features)))"
   ]
  },
  {
   "cell_type": "code",
   "execution_count": 8,
   "metadata": {},
   "outputs": [
    {
     "name": "stdout",
     "output_type": "stream",
     "text": [
      "430 data records are dropped due to ARTurnover_3YearAverage\n",
      "\n",
      "115 data records are dropped due to ASSETTURNOVER_3YearAverage\n",
      "\n",
      "4 data records are dropped due to CAPITALIZATION_3YearAverage\n",
      "\n",
      "75 data records are dropped due to CCE_3YearAverage\n",
      "\n",
      "0 data records are dropped due to CURRENTASSET_3YearAverage\n",
      "\n",
      "0 data records are dropped due to CURRENTLIABILITY_3YearAverage\n",
      "\n",
      "2533 data records are dropped due to Capex2Dep_3YearAverage\n",
      "\n",
      "0 data records are dropped due to DEBTSERVCOV_3YearAverage\n",
      "\n",
      "0 data records are dropped due to EBITDAR_3YearAverage\n",
      "\n",
      "0 data records are dropped due to EBITDA_3YearAverage\n",
      "\n",
      "2471 data records are dropped due to FCF_3YearAverage\n",
      "\n",
      "0 data records are dropped due to FIXEDASSET_3YearAverage\n",
      "\n",
      "0 data records are dropped due to FIXEDCHARGECOV_3YearAverage\n",
      "\n",
      "873 data records are dropped due to INVENTORYDAYS_3YearAverage\n",
      "\n",
      "0 data records are dropped due to INVENTORY_3YearAverage\n",
      "\n",
      "0 data records are dropped due to LEASERENTEXP_3YearAverage\n",
      "\n",
      "0 data records are dropped due to NETPROFIT_3YearAverage\n",
      "\n",
      "0 data records are dropped due to NETSALES_3YearAverage\n",
      "\n",
      "0 data records are dropped due to NONCURRLIA_3YearAverage\n",
      "\n",
      "0 data records are dropped due to OPERPROFIT_3YearAverage\n",
      "\n",
      "4 data records are dropped due to RETAINED_EARNINGS_3YearAverage\n",
      "\n",
      "0 data records are dropped due to TOTALASSET_3YearAverage\n",
      "\n",
      "0 data records are dropped due to TOTALDEBT_3YearAverage\n",
      "\n",
      "0 data records are dropped due to TOTALEQUITY_3YearAverage\n",
      "\n",
      "0 data records are dropped due to TOTALNETWORTH_3YearAverage\n",
      "\n",
      "0 data records are dropped due to TOTALREVENUE_3YearAverage\n",
      "\n",
      "0 data records are dropped due to TOTINTEXP_3YearAverage\n",
      "\n",
      "13 data records are dropped due to payableDAYS_3YearAverage\n",
      "\n",
      "0 data records are dropped due to receivabledays_3YearAverage\n",
      "\n",
      "0 data records are dropped due to tangibleNetWorth_3YearAverage\n",
      "\n"
     ]
    }
   ],
   "source": [
    "#Calculating 3 year average\n",
    "def three_year_average(X, col_y0, col_y1, col_y2, col):\n",
    "    X.drop(X[X[col_y0].isnull()].index, inplace = True)\n",
    "    \n",
    "    X[col] = X[col_y0]\n",
    "    \n",
    "    two_years_average = X[col_y1].notnull() & X[col_y2].isnull()\n",
    "    X.loc[two_years_average, col] = X.loc[two_years_average, col_y0] * 4/7 + X.loc[two_years_average, col_y1] * 3/7\n",
    "    \n",
    "    three_years_average = X[col_y1].notnull() & X[col_y2].notnull()\n",
    "    X.loc[three_years_average, col] = X.loc[three_years_average, col_y0] * 4/9 + X.loc[three_years_average, col_y1] * 3/9 + X.loc[three_years_average, col_y2] * 2/9\n",
    "    \n",
    "    return X\n",
    "\n",
    "cols_to_avg = []\n",
    "\n",
    "for col in fin_features:\n",
    "    if (col.endswith('Y0') and not col.endswith('growth_Y0')):\n",
    "        cols_to_avg.append([col, col[:-2] + 'Y1', col[:-2] + 'Y2', col[:-2] + '3YearAverage'])\n",
    "\n",
    "data_left = general_df.copy()\n",
    "for col0, col1, col2, col in cols_to_avg:\n",
    "    orig_num_data = len(data_left)\n",
    "    data_left = three_year_average(data_left, col0, col1, col2, col)\n",
    "    remaining_data = len(data_left)\n",
    "    print((orig_num_data - remaining_data), 'data records are dropped due to ' + col + '\\n')"
   ]
  },
  {
   "cell_type": "code",
   "execution_count": 9,
   "metadata": {},
   "outputs": [],
   "source": [
    "data_left = data_left.reset_index(drop = True)"
   ]
  },
  {
   "cell_type": "code",
   "execution_count": 10,
   "metadata": {},
   "outputs": [],
   "source": [
    "#Calculating financial ratios\n",
    "for i in range(4):\n",
    "    data_left['DEBT2EBITDA_Y'+str(i)] = data_left['TOTALDEBT_Y'+str(i)] / data_left['EBITDA_Y' + str(i)]\n",
    "    data_left['DEBT2CAPT_Y'+str(i)] = data_left['TOTALDEBT_Y'+str(i)] / data_left['CAPITALIZATION_Y' + str(i)]\n",
    "    data_left['DEBT2EQUITY_Y'+str(i)] = data_left['TOTALDEBT_Y'+str(i)] / data_left['TOTALEQUITY_Y' + str(i)]\n",
    "    data_left['DEBT2ASSET_Y'+str(i)] = data_left['TOTALDEBT_Y'+str(i)] / data_left['TOTALASSET_Y' + str(i)]\n",
    "    data_left['DEBT2TANGIBLENW_Y'+str(i)] = data_left['TOTALDEBT_Y'+str(i)] / data_left['tangibleNetWorth_Y' + str(i)]\n",
    "    data_left['CASH2ASSET_Y'+str(i)] = data_left['CCE_Y'+str(i)] / data_left['TOTALASSET_Y' + str(i)]\n",
    "    data_left['CASH2DEBT_Y'+str(i)] = data_left['CCE_Y'+str(i)] / data_left['TOTALDEBT_Y' + str(i)]\n",
    "    data_left['CA2CL_Y'+str(i)] = data_left['CURRENTASSET_Y'+str(i)] / data_left['CURRENTLIABILITY_Y' + str(i)]\n",
    "    \n",
    "for i in range(3):\n",
    "    data_left['DEBT2FCF_Y'+str(i)] = data_left['TOTALDEBT_Y' + str(i)] / data_left['FCF_Y'+str(i)]"
   ]
  },
  {
   "cell_type": "code",
   "execution_count": 11,
   "metadata": {},
   "outputs": [],
   "source": [
    "new_feat = ['DEBT2EBITDA_Y','DEBT2CAPT_Y', 'DEBT2EQUITY_Y', 'DEBT2ASSET_Y', 'DEBT2TANGIBLENW_Y', 'CASH2ASSET_Y', 'CASH2DEBT_Y', 'CA2CL_Y']\n",
    "for i in range(4):\n",
    "    for feat in new_feat:\n",
    "        fin_features = list(fin_features) + list([feat + str(i)])\n",
    "\n",
    "for i in range(3):\n",
    "    fin_features = list(fin_features) + list(['DEBT2FCF_Y'+str(i)])\n",
    "\n",
    "fin_features = np.sort(fin_features)"
   ]
  },
  {
   "cell_type": "markdown",
   "metadata": {},
   "source": [
    "B_Plus_Flag Divisions"
   ]
  },
  {
   "cell_type": "code",
   "execution_count": 12,
   "metadata": {},
   "outputs": [
    {
     "data": {
      "text/plain": [
       "B_PLUS_FLAG\n",
       "0     5511\n",
       "1    16435\n",
       "dtype: int64"
      ]
     },
     "execution_count": 12,
     "metadata": {},
     "output_type": "execute_result"
    }
   ],
   "source": [
    "data_left.groupby(['B_PLUS_FLAG']).size()"
   ]
  },
  {
   "cell_type": "markdown",
   "metadata": {},
   "source": [
    "Getting top 20 industry codes with most records which account for 77% of the data"
   ]
  },
  {
   "cell_type": "code",
   "execution_count": 13,
   "metadata": {},
   "outputs": [
    {
     "data": {
      "text/plain": [
       "4     8690\n",
       "9     1289\n",
       "3      825\n",
       "13     691\n",
       "10     645\n",
       "22     625\n",
       "19     552\n",
       "20     490\n",
       "8      399\n",
       "45     397\n",
       "37     350\n",
       "41     302\n",
       "34     281\n",
       "30     262\n",
       "28     255\n",
       "5      216\n",
       "15     208\n",
       "12     197\n",
       "42     197\n",
       "27     194\n",
       "Name: BR Code, dtype: int64"
      ]
     },
     "execution_count": 13,
     "metadata": {},
     "output_type": "execute_result"
    }
   ],
   "source": [
    "top_br_code = data_left.groupby(['BR Code']).count().sort_values(by = 'ROW', ascending = False).head(20).reset_index()\n",
    "top_br = top_br_code['BR Code'].tolist()\n",
    "data = data_left[data_left['BR Code'].isin(top_br)]\n",
    "data['BR Code'].value_counts()"
   ]
  },
  {
   "cell_type": "markdown",
   "metadata": {},
   "source": [
    "Relationship between B_PLUS_Flag and Industry Code"
   ]
  },
  {
   "cell_type": "code",
   "execution_count": 14,
   "metadata": {},
   "outputs": [
    {
     "data": {
      "text/plain": [
       "BR Code  B_PLUS_FLAG\n",
       "3        0               133\n",
       "         1               692\n",
       "4        0              3007\n",
       "         1              5683\n",
       "5        0                13\n",
       "         1               203\n",
       "8        0               153\n",
       "         1               246\n",
       "9        0               322\n",
       "         1               967\n",
       "10       0                73\n",
       "         1               572\n",
       "12       0                 8\n",
       "         1               189\n",
       "13       0               182\n",
       "         1               509\n",
       "15       0                17\n",
       "         1               191\n",
       "19       0                91\n",
       "         1               461\n",
       "20       0                97\n",
       "         1               393\n",
       "22       0               186\n",
       "         1               439\n",
       "27       0                32\n",
       "         1               162\n",
       "28       0               102\n",
       "         1               153\n",
       "30       0                58\n",
       "         1               204\n",
       "34       0                89\n",
       "         1               192\n",
       "37       0                64\n",
       "         1               286\n",
       "41       0                30\n",
       "         1               272\n",
       "42       0                71\n",
       "         1               126\n",
       "45       0                46\n",
       "         1               351\n",
       "dtype: int64"
      ]
     },
     "execution_count": 14,
     "metadata": {},
     "output_type": "execute_result"
    }
   ],
   "source": [
    "data.groupby(['BR Code', 'B_PLUS_FLAG']).size()"
   ]
  },
  {
   "cell_type": "code",
   "execution_count": 15,
   "metadata": {},
   "outputs": [
    {
     "data": {
      "text/plain": [
       "<matplotlib.axes._subplots.AxesSubplot at 0x279bb513248>"
      ]
     },
     "execution_count": 15,
     "metadata": {},
     "output_type": "execute_result"
    },
    {
     "data": {
      "image/png": "[encoded data removed]",
      "text/plain": [
       "<Figure size 720x720 with 1 Axes>"
      ]
     },
     "metadata": {
      "needs_background": "light"
     },
     "output_type": "display_data"
    }
   ],
   "source": [
    "data.groupby(['BR Code', 'B_PLUS_FLAG']).size().plot(kind = 'bar', figsize = (10,10))"
   ]
  },
  {
   "cell_type": "code",
   "execution_count": 16,
   "metadata": {},
   "outputs": [
    {
     "data": {
      "text/plain": [
       "<matplotlib.axes._subplots.AxesSubplot at 0x279bb6dcc48>"
      ]
     },
     "execution_count": 16,
     "metadata": {},
     "output_type": "execute_result"
    },
    {
     "data": {
      "image/png": "[encoded data removed]",
      "text/plain": [
       "<Figure size 720x720 with 1 Axes>"
      ]
     },
     "metadata": {
      "needs_background": "light"
     },
     "output_type": "display_data"
    }
   ],
   "source": [
    "data.groupby(['BR Code', 'B_PLUS_FLAG']).B_PLUS_FLAG.count().unstack().plot(kind='bar', legend=True, figsize = (10,10) )"
   ]
  },
  {
   "cell_type": "markdown",
   "metadata": {},
   "source": [
    "Industry codes such as 5,10,12,15,27,30 have strong affinity to 1"
   ]
  },
  {
   "cell_type": "markdown",
   "metadata": {},
   "source": [
    "Analyzing top 5 industry codes which have the most records i.e. accounts for 55% of the data"
   ]
  },
  {
   "cell_type": "code",
   "execution_count": 17,
   "metadata": {},
   "outputs": [
    {
     "name": "stderr",
     "output_type": "stream",
     "text": [
      "C:\\Users\\subha\\Anaconda3\\lib\\site-packages\\ipykernel_launcher.py:2: SettingWithCopyWarning: \n",
      "A value is trying to be set on a copy of a slice from a DataFrame.\n",
      "Try using .loc[row_indexer,col_indexer] = value instead\n",
      "\n",
      "See the caveats in the documentation: https://pandas.pydata.org/pandas-docs/stable/user_guide/indexing.html#returning-a-view-versus-a-copy\n",
      "  \n",
      "C:\\Users\\subha\\Anaconda3\\lib\\site-packages\\ipykernel_launcher.py:3: SettingWithCopyWarning: \n",
      "A value is trying to be set on a copy of a slice from a DataFrame.\n",
      "Try using .loc[row_indexer,col_indexer] = value instead\n",
      "\n",
      "See the caveats in the documentation: https://pandas.pydata.org/pandas-docs/stable/user_guide/indexing.html#returning-a-view-versus-a-copy\n",
      "  This is separate from the ipykernel package so we can avoid doing imports until\n",
      "C:\\Users\\subha\\Anaconda3\\lib\\site-packages\\ipykernel_launcher.py:4: SettingWithCopyWarning: \n",
      "A value is trying to be set on a copy of a slice from a DataFrame.\n",
      "Try using .loc[row_indexer,col_indexer] = value instead\n",
      "\n",
      "See the caveats in the documentation: https://pandas.pydata.org/pandas-docs/stable/user_guide/indexing.html#returning-a-view-versus-a-copy\n",
      "  after removing the cwd from sys.path.\n",
      "C:\\Users\\subha\\Anaconda3\\lib\\site-packages\\ipykernel_launcher.py:5: SettingWithCopyWarning: \n",
      "A value is trying to be set on a copy of a slice from a DataFrame.\n",
      "Try using .loc[row_indexer,col_indexer] = value instead\n",
      "\n",
      "See the caveats in the documentation: https://pandas.pydata.org/pandas-docs/stable/user_guide/indexing.html#returning-a-view-versus-a-copy\n",
      "  \"\"\"\n"
     ]
    }
   ],
   "source": [
    "top_5_br = data_left[data_left['BR Code'].isin([4,9,3,13,10])]\n",
    "top_5_br['Debt2cap_quantile'] = pd.qcut(top_5_br['DEBT2CAPT_Y0'], 4, labels = False)\n",
    "top_5_br['Debt2equity_quantile'] = pd.qcut(top_5_br['DEBT2EQUITY_Y0'], 4, labels = False)\n",
    "top_5_br['Cash2asset_quantile'] = pd.qcut(top_5_br['CASH2ASSET_Y0'], 4, labels = False)\n",
    "top_5_br['Debt2asset_quantile'] = pd.qcut(top_5_br['DEBT2ASSET_Y0'], 4, labels = False)"
   ]
  },
  {
   "cell_type": "markdown",
   "metadata": {},
   "source": [
    "Looking at relation between industry codes and cash2asset"
   ]
  },
  {
   "cell_type": "code",
   "execution_count": 18,
   "metadata": {},
   "outputs": [
    {
     "data": {
      "text/plain": [
       "BR Code  Cash2asset_quantile\n",
       "3        0                       554\n",
       "         1                       195\n",
       "         2                        56\n",
       "         3                        20\n",
       "4        0                       970\n",
       "         1                      2201\n",
       "         2                      2696\n",
       "         3                      2823\n",
       "9        0                       809\n",
       "         1                       272\n",
       "         2                       134\n",
       "         3                        74\n",
       "10       0                       487\n",
       "         1                       105\n",
       "         2                        38\n",
       "         3                        15\n",
       "13       0                       215\n",
       "         1                       262\n",
       "         2                       111\n",
       "         3                       103\n",
       "dtype: int64"
      ]
     },
     "execution_count": 18,
     "metadata": {},
     "output_type": "execute_result"
    }
   ],
   "source": [
    "top_5_br.groupby(['BR Code', 'Cash2asset_quantile']).size()"
   ]
  },
  {
   "cell_type": "code",
   "execution_count": 19,
   "metadata": {},
   "outputs": [
    {
     "data": {
      "text/plain": [
       "<matplotlib.axes._subplots.AxesSubplot at 0x279bbf23c08>"
      ]
     },
     "execution_count": 19,
     "metadata": {},
     "output_type": "execute_result"
    },
    {
     "data": {
      "image/png": "[encoded data removed]",
      "text/plain": [
       "<Figure size 720x720 with 1 Axes>"
      ]
     },
     "metadata": {
      "needs_background": "light"
     },
     "output_type": "display_data"
    }
   ],
   "source": [
    "top_5_br.groupby(['BR Code', 'Cash2asset_quantile']).Cash2asset_quantile.count().unstack().plot(kind='bar', legend=True, figsize = (10,10) )"
   ]
  },
  {
   "cell_type": "markdown",
   "metadata": {},
   "source": [
    "Industry code 4 have majority of records in the higher quantiles of Cash2Asset whereas the remaining have it in the lower quantiles"
   ]
  },
  {
   "cell_type": "markdown",
   "metadata": {},
   "source": [
    "Looking at relation between industry codes and Debt2Equity"
   ]
  },
  {
   "cell_type": "code",
   "execution_count": 20,
   "metadata": {},
   "outputs": [
    {
     "data": {
      "text/plain": [
       "BR Code  Debt2equity_quantile\n",
       "3        0                        446\n",
       "         1                        112\n",
       "         2                         98\n",
       "         3                        169\n",
       "4        0                       1510\n",
       "         1                       2527\n",
       "         2                       2556\n",
       "         3                       2097\n",
       "9        0                        558\n",
       "         1                        177\n",
       "         2                        174\n",
       "         3                        380\n",
       "10       0                        370\n",
       "         1                         67\n",
       "         2                         56\n",
       "         3                        152\n",
       "13       0                        151\n",
       "         1                        152\n",
       "         2                        151\n",
       "         3                        237\n",
       "dtype: int64"
      ]
     },
     "execution_count": 20,
     "metadata": {},
     "output_type": "execute_result"
    }
   ],
   "source": [
    "top_5_br.groupby(['BR Code', 'Debt2equity_quantile']).size()"
   ]
  },
  {
   "cell_type": "code",
   "execution_count": 21,
   "metadata": {},
   "outputs": [
    {
     "data": {
      "text/plain": [
       "<matplotlib.axes._subplots.AxesSubplot at 0x279bbfeb548>"
      ]
     },
     "execution_count": 21,
     "metadata": {},
     "output_type": "execute_result"
    },
    {
     "data": {
      "image/png": "[encoded data removed]",
      "text/plain": [
       "<Figure size 720x720 with 1 Axes>"
      ]
     },
     "metadata": {
      "needs_background": "light"
     },
     "output_type": "display_data"
    }
   ],
   "source": [
    "top_5_br.groupby(['BR Code', 'Debt2equity_quantile']).Debt2equity_quantile.count().unstack().plot(kind='bar', legend=True, figsize = (10,10) )"
   ]
  },
  {
   "cell_type": "markdown",
   "metadata": {},
   "source": [
    "Industry codes 3 and 9 have majority of its companies in the lower quantiles of debt2equity whereas industry codes 4 and 13 have majority of companies in the higher quantiles of debt2equity"
   ]
  },
  {
   "cell_type": "markdown",
   "metadata": {},
   "source": [
    "Looking at relation between industry codes and Debt2Asset"
   ]
  },
  {
   "cell_type": "code",
   "execution_count": 22,
   "metadata": {},
   "outputs": [
    {
     "data": {
      "text/plain": [
       "<matplotlib.axes._subplots.AxesSubplot at 0x279bc0df448>"
      ]
     },
     "execution_count": 22,
     "metadata": {},
     "output_type": "execute_result"
    },
    {
     "data": {
      "image/png": "[encoded data removed]",
      "text/plain": [
       "<Figure size 720x720 with 1 Axes>"
      ]
     },
     "metadata": {
      "needs_background": "light"
     },
     "output_type": "display_data"
    }
   ],
   "source": [
    "top_5_br.groupby(['BR Code', 'Debt2asset_quantile']).Debt2asset_quantile.count().unstack().plot(kind='bar', legend=True, figsize = (10,10) )"
   ]
  },
  {
   "cell_type": "code",
   "execution_count": 23,
   "metadata": {},
   "outputs": [
    {
     "data": {
      "text/plain": [
       "BR Code  Debt2asset_quantile\n",
       "3        0                       542\n",
       "         1                       195\n",
       "         2                        62\n",
       "         3                        26\n",
       "4        0                       995\n",
       "         1                      2276\n",
       "         2                      2663\n",
       "         3                      2756\n",
       "9        0                       799\n",
       "         1                       249\n",
       "         2                       130\n",
       "         3                       111\n",
       "10       0                       486\n",
       "         1                        88\n",
       "         2                        38\n",
       "         3                        33\n",
       "13       0                       213\n",
       "         1                       227\n",
       "         2                       142\n",
       "         3                       109\n",
       "dtype: int64"
      ]
     },
     "execution_count": 23,
     "metadata": {},
     "output_type": "execute_result"
    }
   ],
   "source": [
    "top_5_br.groupby(['BR Code', 'Debt2asset_quantile']).size()"
   ]
  },
  {
   "cell_type": "markdown",
   "metadata": {},
   "source": [
    "Industry codes 3,9,10 and 13 have majority of its companies in lower quantiles of debt2asset ratio whereas 4 has the opposite"
   ]
  },
  {
   "cell_type": "markdown",
   "metadata": {},
   "source": [
    "Looking at relation between industry codes and TotalRevenue3YearAverage"
   ]
  },
  {
   "cell_type": "code",
   "execution_count": null,
   "metadata": {},
   "outputs": [],
   "source": []
  },
  {
   "cell_type": "code",
   "execution_count": 25,
   "metadata": {},
   "outputs": [
    {
     "name": "stderr",
     "output_type": "stream",
     "text": [
      "C:\\Users\\subha\\Anaconda3\\lib\\site-packages\\ipykernel_launcher.py:1: SettingWithCopyWarning: \n",
      "A value is trying to be set on a copy of a slice from a DataFrame.\n",
      "Try using .loc[row_indexer,col_indexer] = value instead\n",
      "\n",
      "See the caveats in the documentation: https://pandas.pydata.org/pandas-docs/stable/user_guide/indexing.html#returning-a-view-versus-a-copy\n",
      "  \"\"\"Entry point for launching an IPython kernel.\n"
     ]
    },
    {
     "data": {
      "text/plain": [
       "BR Code  TOTALREVENUE_3YearAverage_quantile\n",
       "3        0                                       17\n",
       "         1                                       67\n",
       "         2                                      212\n",
       "         3                                      529\n",
       "4        0                                     2858\n",
       "         1                                     2738\n",
       "         2                                     2170\n",
       "         3                                      924\n",
       "9        0                                       78\n",
       "         1                                      103\n",
       "         2                                      229\n",
       "         3                                      879\n",
       "10       0                                       28\n",
       "         1                                       22\n",
       "         2                                      148\n",
       "         3                                      447\n",
       "13       0                                       54\n",
       "         1                                      105\n",
       "         2                                      276\n",
       "         3                                      256\n",
       "dtype: int64"
      ]
     },
     "execution_count": 25,
     "metadata": {},
     "output_type": "execute_result"
    }
   ],
   "source": [
    "top_5_br['TOTALREVENUE_3YearAverage_quantile'] = pd.qcut(top_5_br['TOTALREVENUE_3YearAverage'], 4, labels = False)\n",
    "top_5_br.groupby(['BR Code', 'TOTALREVENUE_3YearAverage_quantile']).size()"
   ]
  },
  {
   "cell_type": "code",
   "execution_count": 26,
   "metadata": {},
   "outputs": [
    {
     "data": {
      "text/plain": [
       "<matplotlib.axes._subplots.AxesSubplot at 0x279bc63b408>"
      ]
     },
     "execution_count": 26,
     "metadata": {},
     "output_type": "execute_result"
    },
    {
     "data": {
      "image/png": "[encoded data removed]",
      "text/plain": [
       "<Figure size 720x720 with 1 Axes>"
      ]
     },
     "metadata": {
      "needs_background": "light"
     },
     "output_type": "display_data"
    }
   ],
   "source": [
    "top_5_br.groupby(['BR Code', 'TOTALREVENUE_3YearAverage_quantile']).TOTALREVENUE_3YearAverage_quantile.count().unstack().plot(kind='bar', legend=True, figsize = (10,10) )"
   ]
  },
  {
   "cell_type": "markdown",
   "metadata": {},
   "source": [
    "Majority of companies in these 5 industry codes are in the higher quantiles of TotalRevenue_3YearAverage except for industry code 4"
   ]
  },
  {
   "cell_type": "markdown",
   "metadata": {},
   "source": [
    "Looking at relation between industry codes and TotalAssets3YearAverage"
   ]
  },
  {
   "cell_type": "code",
   "execution_count": null,
   "metadata": {},
   "outputs": [],
   "source": []
  },
  {
   "cell_type": "code",
   "execution_count": 28,
   "metadata": {},
   "outputs": [
    {
     "name": "stderr",
     "output_type": "stream",
     "text": [
      "C:\\Users\\subha\\Anaconda3\\lib\\site-packages\\ipykernel_launcher.py:1: SettingWithCopyWarning: \n",
      "A value is trying to be set on a copy of a slice from a DataFrame.\n",
      "Try using .loc[row_indexer,col_indexer] = value instead\n",
      "\n",
      "See the caveats in the documentation: https://pandas.pydata.org/pandas-docs/stable/user_guide/indexing.html#returning-a-view-versus-a-copy\n",
      "  \"\"\"Entry point for launching an IPython kernel.\n"
     ]
    },
    {
     "data": {
      "text/plain": [
       "BR Code  TOTALASSET_3YearAverage_quantile\n",
       "3        0                                     14\n",
       "         1                                     53\n",
       "         2                                    203\n",
       "         3                                    555\n",
       "4        0                                   2852\n",
       "         1                                   2728\n",
       "         2                                   2148\n",
       "         3                                    962\n",
       "9        0                                     67\n",
       "         1                                    122\n",
       "         2                                    295\n",
       "         3                                    805\n",
       "10       0                                     19\n",
       "         1                                     21\n",
       "         2                                    116\n",
       "         3                                    489\n",
       "13       0                                     83\n",
       "         1                                    111\n",
       "         2                                    273\n",
       "         3                                    224\n",
       "dtype: int64"
      ]
     },
     "execution_count": 28,
     "metadata": {},
     "output_type": "execute_result"
    }
   ],
   "source": [
    "top_5_br['TOTALASSET_3YearAverage_quantile'] = pd.qcut(top_5_br['TOTALASSET_3YearAverage'], 4, labels = False)\n",
    "top_5_br.groupby(['BR Code', 'TOTALASSET_3YearAverage_quantile']).size()"
   ]
  },
  {
   "cell_type": "code",
   "execution_count": 29,
   "metadata": {},
   "outputs": [
    {
     "data": {
      "text/plain": [
       "<matplotlib.axes._subplots.AxesSubplot at 0x279bc8fe548>"
      ]
     },
     "execution_count": 29,
     "metadata": {},
     "output_type": "execute_result"
    },
    {
     "data": {
      "image/png": "[encoded data removed]",
      "text/plain": [
       "<Figure size 720x720 with 1 Axes>"
      ]
     },
     "metadata": {
      "needs_background": "light"
     },
     "output_type": "display_data"
    }
   ],
   "source": [
    "top_5_br.groupby(['BR Code', 'TOTALASSET_3YearAverage_quantile']).TOTALASSET_3YearAverage_quantile.count().unstack().plot(kind='bar', legend=True, figsize = (10,10) )"
   ]
  },
  {
   "cell_type": "markdown",
   "metadata": {},
   "source": [
    "Majority of companies in these 5 industry codes are in the higher quantiles of TotalAsset_3YearAverage except for industry code 4"
   ]
  },
  {
   "cell_type": "code",
   "execution_count": 30,
   "metadata": {},
   "outputs": [
    {
     "data": {
      "text/plain": [
       "B_PLUS_FLAG  Revenue_increase\n",
       "0            N                   2953\n",
       "             Y                   2558\n",
       "1            N                   7008\n",
       "             Y                   9427\n",
       "dtype: int64"
      ]
     },
     "execution_count": 30,
     "metadata": {},
     "output_type": "execute_result"
    }
   ],
   "source": [
    "data_left['Revenue_increase']=np.where(data_left['TOTALREVENUE_Y0'] > data_left['TOTALREVENUE_Y1'], 'Y','N')\n",
    "data_left.groupby(['B_PLUS_FLAG', 'Revenue_increase']).size()"
   ]
  },
  {
   "cell_type": "markdown",
   "metadata": {},
   "source": [
    "Relation between revenue increase and Final_IG"
   ]
  },
  {
   "cell_type": "code",
   "execution_count": 31,
   "metadata": {},
   "outputs": [
    {
     "data": {
      "text/plain": [
       "<matplotlib.axes._subplots.AxesSubplot at 0x279c00eb848>"
      ]
     },
     "execution_count": 31,
     "metadata": {},
     "output_type": "execute_result"
    },
    {
     "data": {
      "image/png": "[encoded data removed]",
      "text/plain": [
       "<Figure size 720x720 with 1 Axes>"
      ]
     },
     "metadata": {
      "needs_background": "light"
     },
     "output_type": "display_data"
    }
   ],
   "source": [
    "data_left.groupby(['Final_IG', 'Revenue_increase']).Revenue_increase.count().unstack().plot(kind='bar', legend=True, figsize = (10,10) )"
   ]
  },
  {
   "cell_type": "code",
   "execution_count": 32,
   "metadata": {},
   "outputs": [
    {
     "data": {
      "text/plain": [
       "Final_IG  Revenue_increase\n",
       "0         N                      3\n",
       "          Y                      9\n",
       "1         N                     69\n",
       "          Y                    123\n",
       "2         N                    186\n",
       "          Y                    336\n",
       "3         N                    261\n",
       "          Y                    508\n",
       "4         N                    463\n",
       "          Y                    808\n",
       "5         N                    619\n",
       "          Y                   1111\n",
       "6         N                    937\n",
       "          Y                   1459\n",
       "7         N                   1766\n",
       "          Y                   2258\n",
       "8         N                   2704\n",
       "          Y                   2815\n",
       "9         N                   1557\n",
       "          Y                   1396\n",
       "10        N                    715\n",
       "          Y                    652\n",
       "11        N                    269\n",
       "          Y                    229\n",
       "12        N                    111\n",
       "          Y                     65\n",
       "13        N                     95\n",
       "          Y                     67\n",
       "14        N                     28\n",
       "          Y                     31\n",
       "15        N                     20\n",
       "          Y                     11\n",
       "16        N                      2\n",
       "17        N                    156\n",
       "          Y                    107\n",
       "dtype: int64"
      ]
     },
     "execution_count": 32,
     "metadata": {},
     "output_type": "execute_result"
    }
   ],
   "source": [
    "data_left.groupby(['Final_IG', 'Revenue_increase']).size()"
   ]
  },
  {
   "cell_type": "markdown",
   "metadata": {},
   "source": [
    "Till rating 8, revenue increase is a indicator for higher rating after which there is diminishing returns"
   ]
  },
  {
   "cell_type": "markdown",
   "metadata": {},
   "source": [
    "Relation between Asset increase and Final_IG"
   ]
  },
  {
   "cell_type": "code",
   "execution_count": null,
   "metadata": {},
   "outputs": [],
   "source": []
  },
  {
   "cell_type": "code",
   "execution_count": 34,
   "metadata": {},
   "outputs": [
    {
     "data": {
      "text/plain": [
       "Final_IG  Asset_increase\n",
       "0         N                    1\n",
       "          Y                   11\n",
       "1         N                   78\n",
       "          Y                  114\n",
       "2         N                  177\n",
       "          Y                  345\n",
       "3         N                  268\n",
       "          Y                  501\n",
       "4         N                  427\n",
       "          Y                  844\n",
       "5         N                  633\n",
       "          Y                 1097\n",
       "6         N                  970\n",
       "          Y                 1426\n",
       "7         N                 1776\n",
       "          Y                 2248\n",
       "8         N                 2702\n",
       "          Y                 2817\n",
       "9         N                 1507\n",
       "          Y                 1446\n",
       "10        N                  714\n",
       "          Y                  653\n",
       "11        N                  260\n",
       "          Y                  238\n",
       "12        N                   98\n",
       "          Y                   78\n",
       "13        N                  101\n",
       "          Y                   61\n",
       "14        N                   30\n",
       "          Y                   29\n",
       "15        N                   18\n",
       "          Y                   13\n",
       "16        N                    1\n",
       "          Y                    1\n",
       "17        N                  134\n",
       "          Y                  129\n",
       "dtype: int64"
      ]
     },
     "execution_count": 34,
     "metadata": {},
     "output_type": "execute_result"
    }
   ],
   "source": [
    "data_left['Asset_increase']=np.where(data_left['TOTALASSET_Y0'] > data_left['TOTALASSET_Y1'], 'Y','N')\n",
    "data_left.groupby(['Final_IG', 'Asset_increase']).size()"
   ]
  },
  {
   "cell_type": "code",
   "execution_count": 35,
   "metadata": {},
   "outputs": [
    {
     "data": {
      "text/plain": [
       "<matplotlib.axes._subplots.AxesSubplot at 0x279c20d11c8>"
      ]
     },
     "execution_count": 35,
     "metadata": {},
     "output_type": "execute_result"
    },
    {
     "data": {
      "image/png": "[encoded data removed]",
      "text/plain": [
       "<Figure size 720x720 with 1 Axes>"
      ]
     },
     "metadata": {
      "needs_background": "light"
     },
     "output_type": "display_data"
    }
   ],
   "source": [
    "data_left.groupby(['Final_IG', 'Asset_increase']).Asset_increase.count().unstack().plot(kind='bar', legend=True, figsize = (10,10) )"
   ]
  },
  {
   "cell_type": "markdown",
   "metadata": {},
   "source": [
    "Diminishing returns after rating 8"
   ]
  },
  {
   "cell_type": "markdown",
   "metadata": {},
   "source": [
    "Relation between debt decrease and final_IG"
   ]
  },
  {
   "cell_type": "code",
   "execution_count": 36,
   "metadata": {},
   "outputs": [
    {
     "data": {
      "text/plain": [
       "Final_IG  Debt_decrease\n",
       "0         N                   7\n",
       "          Y                   5\n",
       "1         N                 123\n",
       "          Y                  69\n",
       "2         N                 331\n",
       "          Y                 191\n",
       "3         N                 459\n",
       "          Y                 310\n",
       "4         N                 729\n",
       "          Y                 542\n",
       "5         N                 994\n",
       "          Y                 736\n",
       "6         N                1345\n",
       "          Y                1051\n",
       "7         N                2265\n",
       "          Y                1759\n",
       "8         N                3124\n",
       "          Y                2395\n",
       "9         N                1678\n",
       "          Y                1275\n",
       "10        N                 758\n",
       "          Y                 609\n",
       "11        N                 260\n",
       "          Y                 238\n",
       "12        N                  73\n",
       "          Y                 103\n",
       "13        N                  82\n",
       "          Y                  80\n",
       "14        N                  31\n",
       "          Y                  28\n",
       "15        N                  20\n",
       "          Y                  11\n",
       "16        Y                   2\n",
       "17        N                 144\n",
       "          Y                 119\n",
       "dtype: int64"
      ]
     },
     "execution_count": 36,
     "metadata": {},
     "output_type": "execute_result"
    }
   ],
   "source": [
    "data_left['Debt_decrease']=np.where(data_left['TOTALDEBT_Y0'] < data_left['TOTALDEBT_Y1'], 'Y','N')\n",
    "data_left.groupby(['Final_IG', 'Debt_decrease']).size()"
   ]
  },
  {
   "cell_type": "markdown",
   "metadata": {},
   "source": [
    "Decrease in debt seems not a strong indictor for the rating"
   ]
  },
  {
   "cell_type": "markdown",
   "metadata": {},
   "source": [
    "relation between net_profit increase and Final_IG"
   ]
  },
  {
   "cell_type": "code",
   "execution_count": 37,
   "metadata": {},
   "outputs": [
    {
     "data": {
      "text/plain": [
       "Final_IG  profit_increase\n",
       "0         N                     3\n",
       "          Y                     9\n",
       "1         N                    84\n",
       "          Y                   108\n",
       "2         N                   228\n",
       "          Y                   294\n",
       "3         N                   352\n",
       "          Y                   417\n",
       "4         N                   580\n",
       "          Y                   691\n",
       "5         N                   835\n",
       "          Y                   895\n",
       "6         N                  1181\n",
       "          Y                  1215\n",
       "7         N                  2111\n",
       "          Y                  1913\n",
       "8         N                  2993\n",
       "          Y                  2526\n",
       "9         N                  1627\n",
       "          Y                  1326\n",
       "10        N                   764\n",
       "          Y                   603\n",
       "11        N                   288\n",
       "          Y                   210\n",
       "12        N                    96\n",
       "          Y                    80\n",
       "13        N                    87\n",
       "          Y                    75\n",
       "14        N                    32\n",
       "          Y                    27\n",
       "15        N                    14\n",
       "          Y                    17\n",
       "16        Y                     2\n",
       "17        N                   151\n",
       "          Y                   112\n",
       "dtype: int64"
      ]
     },
     "execution_count": 37,
     "metadata": {},
     "output_type": "execute_result"
    }
   ],
   "source": [
    "data_left['profit_increase']=np.where(data_left['NETPROFIT_Y0'] > data_left['NETPROFIT_Y1'], 'Y','N')\n",
    "data_left.groupby(['Final_IG', 'profit_increase']).size()"
   ]
  },
  {
   "cell_type": "markdown",
   "metadata": {},
   "source": [
    "Diminishing returns after rating 6"
   ]
  },
  {
   "cell_type": "code",
   "execution_count": 38,
   "metadata": {},
   "outputs": [
    {
     "data": {
      "text/plain": [
       "Final_IG  equity_increase\n",
       "0         N                     4\n",
       "          Y                     8\n",
       "1         N                    62\n",
       "          Y                   130\n",
       "2         N                   177\n",
       "          Y                   345\n",
       "3         N                   240\n",
       "          Y                   529\n",
       "4         N                   417\n",
       "          Y                   854\n",
       "5         N                   656\n",
       "          Y                  1074\n",
       "6         N                   985\n",
       "          Y                  1411\n",
       "7         N                  1892\n",
       "          Y                  2132\n",
       "8         N                  2818\n",
       "          Y                  2701\n",
       "9         N                  1568\n",
       "          Y                  1385\n",
       "10        N                   726\n",
       "          Y                   641\n",
       "11        N                   290\n",
       "          Y                   208\n",
       "12        N                    84\n",
       "          Y                    92\n",
       "13        N                    94\n",
       "          Y                    68\n",
       "14        N                    31\n",
       "          Y                    28\n",
       "15        N                    16\n",
       "          Y                    15\n",
       "16        Y                     2\n",
       "17        N                   152\n",
       "          Y                   111\n",
       "dtype: int64"
      ]
     },
     "execution_count": 38,
     "metadata": {},
     "output_type": "execute_result"
    }
   ],
   "source": [
    "data_left['equity_increase']=np.where(data_left['TOTALEQUITY_Y0'] > data_left['TOTALEQUITY_Y1'], 'Y','N')\n",
    "data_left.groupby(['Final_IG', 'equity_increase']).size()"
   ]
  },
  {
   "cell_type": "markdown",
   "metadata": {},
   "source": [
    "Diminishing returns after rating 7"
   ]
  },
  {
   "cell_type": "markdown",
   "metadata": {},
   "source": [
    "Relation between debt2equity decrease and Final_IG"
   ]
  },
  {
   "cell_type": "code",
   "execution_count": null,
   "metadata": {},
   "outputs": [],
   "source": []
  },
  {
   "cell_type": "code",
   "execution_count": 40,
   "metadata": {},
   "outputs": [
    {
     "data": {
      "text/plain": [
       "Final_IG  debt2equity_decrease\n",
       "0         N                          6\n",
       "          Y                          6\n",
       "1         N                        100\n",
       "          Y                         92\n",
       "2         N                        253\n",
       "          Y                        269\n",
       "3         N                        364\n",
       "          Y                        405\n",
       "4         N                        580\n",
       "          Y                        691\n",
       "5         N                        874\n",
       "          Y                        856\n",
       "6         N                       1170\n",
       "          Y                       1226\n",
       "7         N                       2091\n",
       "          Y                       1933\n",
       "8         N                       2991\n",
       "          Y                       2528\n",
       "9         N                       1667\n",
       "          Y                       1286\n",
       "10        N                        753\n",
       "          Y                        614\n",
       "11        N                        288\n",
       "          Y                        210\n",
       "12        N                         81\n",
       "          Y                         95\n",
       "13        N                         85\n",
       "          Y                         77\n",
       "14        N                         33\n",
       "          Y                         26\n",
       "15        N                         20\n",
       "          Y                         11\n",
       "16        Y                          2\n",
       "17        N                        161\n",
       "          Y                        102\n",
       "dtype: int64"
      ]
     },
     "execution_count": 40,
     "metadata": {},
     "output_type": "execute_result"
    }
   ],
   "source": [
    "data_left['debt2equity_decrease']=np.where(data_left['DEBT2EQUITY_Y0'] < data_left['DEBT2EQUITY_Y1'], 'Y','N')\n",
    "data_left.groupby(['Final_IG', 'debt2equity_decrease']).size()"
   ]
  },
  {
   "cell_type": "code",
   "execution_count": 41,
   "metadata": {},
   "outputs": [
    {
     "data": {
      "text/plain": [
       "<matplotlib.axes._subplots.AxesSubplot at 0x279c293c6c8>"
      ]
     },
     "execution_count": 41,
     "metadata": {},
     "output_type": "execute_result"
    },
    {
     "data": {
      "image/png": "[encoded data removed]",
      "text/plain": [
       "<Figure size 720x720 with 1 Axes>"
      ]
     },
     "metadata": {
      "needs_background": "light"
     },
     "output_type": "display_data"
    }
   ],
   "source": [
    "data_left.groupby(['Final_IG', 'debt2equity_decrease']).debt2equity_decrease.count().unstack().plot(kind='bar', legend=True, figsize = (10,10) )"
   ]
  },
  {
   "cell_type": "markdown",
   "metadata": {},
   "source": [
    "Diminishing returns after rating 6"
   ]
  },
  {
   "cell_type": "code",
   "execution_count": 44,
   "metadata": {},
   "outputs": [
    {
     "data": {
      "text/plain": [
       "<matplotlib.axes._subplots.AxesSubplot at 0x279bb2acdc8>"
      ]
     },
     "execution_count": 44,
     "metadata": {},
     "output_type": "execute_result"
    },
    {
     "data": {
      "image/png": "[encoded data removed]",
      "text/plain": [
       "<Figure size 720x720 with 1 Axes>"
      ]
     },
     "metadata": {
      "needs_background": "light"
     },
     "output_type": "display_data"
    }
   ],
   "source": [
    "data_left.groupby(['Final_IG', 'cash2debt_increase']).cash2debt_increase.count().unstack().plot(kind='bar', legend=True, figsize = (10,10) )"
   ]
  },
  {
   "cell_type": "code",
   "execution_count": 45,
   "metadata": {},
   "outputs": [
    {
     "data": {
      "text/plain": [
       "Final_IG  cash2debt_increase\n",
       "0         N                        4\n",
       "          Y                        8\n",
       "1         N                      100\n",
       "          Y                       92\n",
       "2         N                      298\n",
       "          Y                      224\n",
       "3         N                      428\n",
       "          Y                      341\n",
       "4         N                      687\n",
       "          Y                      584\n",
       "5         N                      958\n",
       "          Y                      772\n",
       "6         N                     1319\n",
       "          Y                     1077\n",
       "7         N                     2204\n",
       "          Y                     1820\n",
       "8         N                     3096\n",
       "          Y                     2423\n",
       "9         N                     1663\n",
       "          Y                     1290\n",
       "10        N                      749\n",
       "          Y                      618\n",
       "11        N                      262\n",
       "          Y                      236\n",
       "12        N                       82\n",
       "          Y                       94\n",
       "13        N                       93\n",
       "          Y                       69\n",
       "14        N                       35\n",
       "          Y                       24\n",
       "15        N                       19\n",
       "          Y                       12\n",
       "16        N                        1\n",
       "          Y                        1\n",
       "17        N                      167\n",
       "          Y                       96\n",
       "dtype: int64"
      ]
     },
     "execution_count": 45,
     "metadata": {},
     "output_type": "execute_result"
    }
   ],
   "source": [
    "data_left['cash2debt_increase']=np.where(data_left['CASH2DEBT_Y0'] > data_left['CASH2DEBT_Y1'], 'Y','N')\n",
    "data_left.groupby(['Final_IG', 'cash2debt_increase']).size()"
   ]
  },
  {
   "cell_type": "code",
   "execution_count": 46,
   "metadata": {},
   "outputs": [
    {
     "data": {
      "text/plain": [
       "Final_IG  debt2equity_quantile\n",
       "0         0                        12\n",
       "1         0                       167\n",
       "          1                         3\n",
       "          2                         2\n",
       "          3                        20\n",
       "                                 ... \n",
       "16        1                         2\n",
       "17        0                        17\n",
       "          1                        74\n",
       "          2                        81\n",
       "          3                        91\n",
       "Length: 66, dtype: int64"
      ]
     },
     "execution_count": 46,
     "metadata": {},
     "output_type": "execute_result"
    }
   ],
   "source": [
    "data_left['debt2equity_quantile'] = pd.qcut(data_left['DEBT2EQUITY_Y0'], 4, labels = False)\n",
    "data_left.groupby(['Final_IG', 'debt2equity_quantile']).size()"
   ]
  }
 ],
 "metadata": {
  "kernelspec": {
   "display_name": "Python 3",
   "language": "python",
   "name": "python3"
  },
  "language_info": {
   "codemirror_mode": {
    "name": "ipython",
    "version": 3
   },
   "file_extension": ".py",
   "mimetype": "text/x-python",
   "name": "python",
   "nbconvert_exporter": "python",
   "pygments_lexer": "ipython3",
   "version": "3.7.4"
  }
 },
 "nbformat": 4,
 "nbformat_minor": 2
}
